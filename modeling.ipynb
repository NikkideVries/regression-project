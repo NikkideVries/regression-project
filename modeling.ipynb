{
 "cells": [
  {
   "cell_type": "code",
   "execution_count": 1,
   "id": "56c00e9f-1487-40b6-8e63-7bde38f87607",
   "metadata": {
    "tags": []
   },
   "outputs": [],
   "source": [
    "# imports: \n",
    "import pandas as pd\n",
    "import numpy as np \n",
    "\n",
    "#personal\n",
    "import wrangle as wr\n",
    "import explore as ex\n",
    "\n",
    "# import \n",
    "import matplotlib.pyplot as plt\n",
    "\n",
    "\n",
    "#statistical metrics:\n",
    "from sklearn.metrics import mean_squared_error\n",
    "from sklearn.metrics import r2_score\n",
    "\n",
    "# model imports:\n",
    "from sklearn.linear_model import LinearRegression\n",
    "from sklearn.feature_selection import RFE\n",
    "from sklearn.feature_selection import SelectKBest, f_regression, SequentialFeatureSelector"
   ]
  },
  {
   "cell_type": "markdown",
   "id": "d707cd64-8e07-40a1-827d-4549a3c8ffb3",
   "metadata": {},
   "source": [
    "# Modeling:  "
   ]
  },
  {
   "cell_type": "code",
   "execution_count": 2,
   "id": "d9f9a7e6-d085-44d7-bbda-0ff8c3267633",
   "metadata": {
    "tags": []
   },
   "outputs": [
    {
     "data": {
      "text/html": [
       "<div>\n",
       "<style scoped>\n",
       "    .dataframe tbody tr th:only-of-type {\n",
       "        vertical-align: middle;\n",
       "    }\n",
       "\n",
       "    .dataframe tbody tr th {\n",
       "        vertical-align: top;\n",
       "    }\n",
       "\n",
       "    .dataframe thead th {\n",
       "        text-align: right;\n",
       "    }\n",
       "</style>\n",
       "<table border=\"1\" class=\"dataframe\">\n",
       "  <thead>\n",
       "    <tr style=\"text-align: right;\">\n",
       "      <th></th>\n",
       "      <th>bathrooms</th>\n",
       "      <th>bedrooms</th>\n",
       "      <th>sqft</th>\n",
       "      <th>tax_value</th>\n",
       "      <th>yearbuilt</th>\n",
       "      <th>house_age</th>\n",
       "      <th>bb_roomcnt</th>\n",
       "    </tr>\n",
       "  </thead>\n",
       "  <tbody>\n",
       "    <tr>\n",
       "      <th>42282</th>\n",
       "      <td>2.5</td>\n",
       "      <td>4.0</td>\n",
       "      <td>1638.0</td>\n",
       "      <td>523394.0</td>\n",
       "      <td>1996.0</td>\n",
       "      <td>21.0</td>\n",
       "      <td>6.5</td>\n",
       "    </tr>\n",
       "    <tr>\n",
       "      <th>4905</th>\n",
       "      <td>1.0</td>\n",
       "      <td>3.0</td>\n",
       "      <td>1092.0</td>\n",
       "      <td>34323.0</td>\n",
       "      <td>1951.0</td>\n",
       "      <td>66.0</td>\n",
       "      <td>4.0</td>\n",
       "    </tr>\n",
       "    <tr>\n",
       "      <th>48029</th>\n",
       "      <td>2.0</td>\n",
       "      <td>3.0</td>\n",
       "      <td>1178.0</td>\n",
       "      <td>211910.0</td>\n",
       "      <td>1939.0</td>\n",
       "      <td>78.0</td>\n",
       "      <td>5.0</td>\n",
       "    </tr>\n",
       "    <tr>\n",
       "      <th>22673</th>\n",
       "      <td>2.0</td>\n",
       "      <td>2.0</td>\n",
       "      <td>1480.0</td>\n",
       "      <td>105574.0</td>\n",
       "      <td>1955.0</td>\n",
       "      <td>62.0</td>\n",
       "      <td>4.0</td>\n",
       "    </tr>\n",
       "    <tr>\n",
       "      <th>52519</th>\n",
       "      <td>3.0</td>\n",
       "      <td>3.0</td>\n",
       "      <td>1812.0</td>\n",
       "      <td>604601.0</td>\n",
       "      <td>1951.0</td>\n",
       "      <td>66.0</td>\n",
       "      <td>6.0</td>\n",
       "    </tr>\n",
       "  </tbody>\n",
       "</table>\n",
       "</div>"
      ],
      "text/plain": [
       "       bathrooms  bedrooms    sqft  tax_value  yearbuilt  house_age  \\\n",
       "42282        2.5       4.0  1638.0   523394.0     1996.0       21.0   \n",
       "4905         1.0       3.0  1092.0    34323.0     1951.0       66.0   \n",
       "48029        2.0       3.0  1178.0   211910.0     1939.0       78.0   \n",
       "22673        2.0       2.0  1480.0   105574.0     1955.0       62.0   \n",
       "52519        3.0       3.0  1812.0   604601.0     1951.0       66.0   \n",
       "\n",
       "       bb_roomcnt  \n",
       "42282         6.5  \n",
       "4905          4.0  \n",
       "48029         5.0  \n",
       "22673         4.0  \n",
       "52519         6.0  "
      ]
     },
     "execution_count": 2,
     "metadata": {},
     "output_type": "execute_result"
    }
   ],
   "source": [
    "# aquire the data:\n",
    "train, validate, test = wr.prep_zillow()\n",
    "train.head()"
   ]
  },
  {
   "cell_type": "code",
   "execution_count": 3,
   "id": "5ba77ad1-ac08-40fe-9319-cb9f4ce2082d",
   "metadata": {
    "tags": []
   },
   "outputs": [
    {
     "data": {
      "text/html": [
       "<div>\n",
       "<style scoped>\n",
       "    .dataframe tbody tr th:only-of-type {\n",
       "        vertical-align: middle;\n",
       "    }\n",
       "\n",
       "    .dataframe tbody tr th {\n",
       "        vertical-align: top;\n",
       "    }\n",
       "\n",
       "    .dataframe thead th {\n",
       "        text-align: right;\n",
       "    }\n",
       "</style>\n",
       "<table border=\"1\" class=\"dataframe\">\n",
       "  <thead>\n",
       "    <tr style=\"text-align: right;\">\n",
       "      <th></th>\n",
       "      <th>bathrooms</th>\n",
       "      <th>bedrooms</th>\n",
       "      <th>sqft</th>\n",
       "      <th>tax_value</th>\n",
       "      <th>yearbuilt</th>\n",
       "      <th>house_age</th>\n",
       "      <th>bb_roomcnt</th>\n",
       "    </tr>\n",
       "  </thead>\n",
       "  <tbody>\n",
       "    <tr>\n",
       "      <th>42282</th>\n",
       "      <td>0.454545</td>\n",
       "      <td>0.6</td>\n",
       "      <td>0.292197</td>\n",
       "      <td>523394.0</td>\n",
       "      <td>0.847328</td>\n",
       "      <td>0.152672</td>\n",
       "      <td>0.611111</td>\n",
       "    </tr>\n",
       "    <tr>\n",
       "      <th>4905</th>\n",
       "      <td>0.181818</td>\n",
       "      <td>0.4</td>\n",
       "      <td>0.176421</td>\n",
       "      <td>34323.0</td>\n",
       "      <td>0.503817</td>\n",
       "      <td>0.496183</td>\n",
       "      <td>0.333333</td>\n",
       "    </tr>\n",
       "    <tr>\n",
       "      <th>48029</th>\n",
       "      <td>0.363636</td>\n",
       "      <td>0.4</td>\n",
       "      <td>0.194656</td>\n",
       "      <td>211910.0</td>\n",
       "      <td>0.412214</td>\n",
       "      <td>0.587786</td>\n",
       "      <td>0.444444</td>\n",
       "    </tr>\n",
       "    <tr>\n",
       "      <th>22673</th>\n",
       "      <td>0.363636</td>\n",
       "      <td>0.2</td>\n",
       "      <td>0.258694</td>\n",
       "      <td>105574.0</td>\n",
       "      <td>0.534351</td>\n",
       "      <td>0.465649</td>\n",
       "      <td>0.333333</td>\n",
       "    </tr>\n",
       "    <tr>\n",
       "      <th>52519</th>\n",
       "      <td>0.545455</td>\n",
       "      <td>0.4</td>\n",
       "      <td>0.329092</td>\n",
       "      <td>604601.0</td>\n",
       "      <td>0.503817</td>\n",
       "      <td>0.496183</td>\n",
       "      <td>0.555556</td>\n",
       "    </tr>\n",
       "  </tbody>\n",
       "</table>\n",
       "</div>"
      ],
      "text/plain": [
       "       bathrooms  bedrooms      sqft  tax_value  yearbuilt  house_age  \\\n",
       "42282   0.454545       0.6  0.292197   523394.0   0.847328   0.152672   \n",
       "4905    0.181818       0.4  0.176421    34323.0   0.503817   0.496183   \n",
       "48029   0.363636       0.4  0.194656   211910.0   0.412214   0.587786   \n",
       "22673   0.363636       0.2  0.258694   105574.0   0.534351   0.465649   \n",
       "52519   0.545455       0.4  0.329092   604601.0   0.503817   0.496183   \n",
       "\n",
       "       bb_roomcnt  \n",
       "42282    0.611111  \n",
       "4905     0.333333  \n",
       "48029    0.444444  \n",
       "22673    0.333333  \n",
       "52519    0.555556  "
      ]
     },
     "execution_count": 3,
     "metadata": {},
     "output_type": "execute_result"
    }
   ],
   "source": [
    "#scale the data:\n",
    "to_scale = ['bathrooms','bedrooms','sqft','yearbuilt','house_age','bb_roomcnt']\n",
    "train_scaled, validate_scaled, test_scaled = ex.scale_data(train, validate, test, to_scale)\n",
    "train_scaled.head()"
   ]
  },
  {
   "cell_type": "code",
   "execution_count": 4,
   "id": "c3671607-8169-4ce4-ba5b-35cf664edbb4",
   "metadata": {
    "tags": []
   },
   "outputs": [],
   "source": [
    "# split data into X_train and Y_train\n",
    "\n",
    "X_train = train_scaled.drop(columns = 'tax_value')\n",
    "y_train = train_scaled['tax_value']\n",
    "\n",
    "X_validate = validate_scaled.drop(columns= 'tax_value')\n",
    "y_validate = validate_scaled['tax_value']\n",
    "\n",
    "X_test = test_scaled.drop(columns = 'tax_value')\n",
    "y_train = train_scaled['tax_value']"
   ]
  },
  {
   "cell_type": "code",
   "execution_count": 5,
   "id": "2bb883d0-50e4-45ca-9931-991b0fe0aa82",
   "metadata": {
    "tags": []
   },
   "outputs": [
    {
     "data": {
      "text/plain": [
       "(29955, 6)"
      ]
     },
     "execution_count": 5,
     "metadata": {},
     "output_type": "execute_result"
    }
   ],
   "source": [
    "X_train.shape"
   ]
  },
  {
   "cell_type": "code",
   "execution_count": 6,
   "id": "90770357-2274-4c58-84cf-092868fecb03",
   "metadata": {
    "tags": []
   },
   "outputs": [
    {
     "data": {
      "text/plain": [
       "(29955,)"
      ]
     },
     "execution_count": 6,
     "metadata": {},
     "output_type": "execute_result"
    }
   ],
   "source": [
    "y_train.shape"
   ]
  },
  {
   "cell_type": "markdown",
   "id": "484e0367-889e-4e0d-892e-74a38bc38927",
   "metadata": {},
   "source": [
    "# Feature Engineering: \n",
    "- What features are the best?\n",
    "- What does RFE say is the best?"
   ]
  },
  {
   "cell_type": "code",
   "execution_count": 7,
   "id": "5ba5dcf9-c66c-4de3-91a8-40ee23ce4a76",
   "metadata": {
    "tags": []
   },
   "outputs": [
    {
     "data": {
      "text/html": [
       "<style>#sk-container-id-1 {color: black;}#sk-container-id-1 pre{padding: 0;}#sk-container-id-1 div.sk-toggleable {background-color: white;}#sk-container-id-1 label.sk-toggleable__label {cursor: pointer;display: block;width: 100%;margin-bottom: 0;padding: 0.3em;box-sizing: border-box;text-align: center;}#sk-container-id-1 label.sk-toggleable__label-arrow:before {content: \"▸\";float: left;margin-right: 0.25em;color: #696969;}#sk-container-id-1 label.sk-toggleable__label-arrow:hover:before {color: black;}#sk-container-id-1 div.sk-estimator:hover label.sk-toggleable__label-arrow:before {color: black;}#sk-container-id-1 div.sk-toggleable__content {max-height: 0;max-width: 0;overflow: hidden;text-align: left;background-color: #f0f8ff;}#sk-container-id-1 div.sk-toggleable__content pre {margin: 0.2em;color: black;border-radius: 0.25em;background-color: #f0f8ff;}#sk-container-id-1 input.sk-toggleable__control:checked~div.sk-toggleable__content {max-height: 200px;max-width: 100%;overflow: auto;}#sk-container-id-1 input.sk-toggleable__control:checked~label.sk-toggleable__label-arrow:before {content: \"▾\";}#sk-container-id-1 div.sk-estimator input.sk-toggleable__control:checked~label.sk-toggleable__label {background-color: #d4ebff;}#sk-container-id-1 div.sk-label input.sk-toggleable__control:checked~label.sk-toggleable__label {background-color: #d4ebff;}#sk-container-id-1 input.sk-hidden--visually {border: 0;clip: rect(1px 1px 1px 1px);clip: rect(1px, 1px, 1px, 1px);height: 1px;margin: -1px;overflow: hidden;padding: 0;position: absolute;width: 1px;}#sk-container-id-1 div.sk-estimator {font-family: monospace;background-color: #f0f8ff;border: 1px dotted black;border-radius: 0.25em;box-sizing: border-box;margin-bottom: 0.5em;}#sk-container-id-1 div.sk-estimator:hover {background-color: #d4ebff;}#sk-container-id-1 div.sk-parallel-item::after {content: \"\";width: 100%;border-bottom: 1px solid gray;flex-grow: 1;}#sk-container-id-1 div.sk-label:hover label.sk-toggleable__label {background-color: #d4ebff;}#sk-container-id-1 div.sk-serial::before {content: \"\";position: absolute;border-left: 1px solid gray;box-sizing: border-box;top: 0;bottom: 0;left: 50%;z-index: 0;}#sk-container-id-1 div.sk-serial {display: flex;flex-direction: column;align-items: center;background-color: white;padding-right: 0.2em;padding-left: 0.2em;position: relative;}#sk-container-id-1 div.sk-item {position: relative;z-index: 1;}#sk-container-id-1 div.sk-parallel {display: flex;align-items: stretch;justify-content: center;background-color: white;position: relative;}#sk-container-id-1 div.sk-item::before, #sk-container-id-1 div.sk-parallel-item::before {content: \"\";position: absolute;border-left: 1px solid gray;box-sizing: border-box;top: 0;bottom: 0;left: 50%;z-index: -1;}#sk-container-id-1 div.sk-parallel-item {display: flex;flex-direction: column;z-index: 1;position: relative;background-color: white;}#sk-container-id-1 div.sk-parallel-item:first-child::after {align-self: flex-end;width: 50%;}#sk-container-id-1 div.sk-parallel-item:last-child::after {align-self: flex-start;width: 50%;}#sk-container-id-1 div.sk-parallel-item:only-child::after {width: 0;}#sk-container-id-1 div.sk-dashed-wrapped {border: 1px dashed gray;margin: 0 0.4em 0.5em 0.4em;box-sizing: border-box;padding-bottom: 0.4em;background-color: white;}#sk-container-id-1 div.sk-label label {font-family: monospace;font-weight: bold;display: inline-block;line-height: 1.2em;}#sk-container-id-1 div.sk-label-container {text-align: center;}#sk-container-id-1 div.sk-container {/* jupyter's `normalize.less` sets `[hidden] { display: none; }` but bootstrap.min.css set `[hidden] { display: none !important; }` so we also need the `!important` here to be able to override the default hidden behavior on the sphinx rendered scikit-learn.org. See: https://github.com/scikit-learn/scikit-learn/issues/21755 */display: inline-block !important;position: relative;}#sk-container-id-1 div.sk-text-repr-fallback {display: none;}</style><div id=\"sk-container-id-1\" class=\"sk-top-container\"><div class=\"sk-text-repr-fallback\"><pre>SelectKBest(k=3, score_func=&lt;function f_regression at 0x175e816c0&gt;)</pre><b>In a Jupyter environment, please rerun this cell to show the HTML representation or trust the notebook. <br />On GitHub, the HTML representation is unable to render, please try loading this page with nbviewer.org.</b></div><div class=\"sk-container\" hidden><div class=\"sk-item\"><div class=\"sk-estimator sk-toggleable\"><input class=\"sk-toggleable__control sk-hidden--visually\" id=\"sk-estimator-id-1\" type=\"checkbox\" checked><label for=\"sk-estimator-id-1\" class=\"sk-toggleable__label sk-toggleable__label-arrow\">SelectKBest</label><div class=\"sk-toggleable__content\"><pre>SelectKBest(k=3, score_func=&lt;function f_regression at 0x175e816c0&gt;)</pre></div></div></div></div></div>"
      ],
      "text/plain": [
       "SelectKBest(k=3, score_func=<function f_regression at 0x175e816c0>)"
      ]
     },
     "execution_count": 7,
     "metadata": {},
     "output_type": "execute_result"
    }
   ],
   "source": [
    "#top 3 features:\n",
    "\n",
    "#make the object\n",
    "kbest = SelectKBest(f_regression, k = 3)\n",
    "\n",
    "#fit the ting:\n",
    "kbest.fit(X_train, y_train)"
   ]
  },
  {
   "cell_type": "code",
   "execution_count": 8,
   "id": "278aa1a1-b27e-4f69-a173-c85259c1d751",
   "metadata": {
    "tags": []
   },
   "outputs": [
    {
     "data": {
      "text/plain": [
       "array([ 8379.70463471,  2076.4468424 , 13045.32710785,  2589.30883293,\n",
       "        2589.30883293,  5675.66277798])"
      ]
     },
     "execution_count": 8,
     "metadata": {},
     "output_type": "execute_result"
    }
   ],
   "source": [
    "# statiscal f-value / featurer's scores:\n",
    "kbest.scores_"
   ]
  },
  {
   "cell_type": "code",
   "execution_count": 9,
   "id": "4c8c845c-000f-4d01-97bc-91cab6167076",
   "metadata": {
    "tags": []
   },
   "outputs": [
    {
     "data": {
      "text/plain": [
       "array([0., 0., 0., 0., 0., 0.])"
      ]
     },
     "execution_count": 9,
     "metadata": {},
     "output_type": "execute_result"
    }
   ],
   "source": [
    "# p value: \n",
    "kbest.pvalues_"
   ]
  },
  {
   "cell_type": "code",
   "execution_count": 10,
   "id": "197e24e0-6afd-418c-8b07-9659a92ba01d",
   "metadata": {
    "tags": []
   },
   "outputs": [
    {
     "data": {
      "text/plain": [
       "array(['bathrooms', 'bedrooms', 'sqft', 'yearbuilt', 'house_age',\n",
       "       'bb_roomcnt'], dtype=object)"
      ]
     },
     "execution_count": 10,
     "metadata": {},
     "output_type": "execute_result"
    }
   ],
   "source": [
    "# get the names of the features its looking at: \n",
    "kbest.feature_names_in_"
   ]
  },
  {
   "cell_type": "code",
   "execution_count": 11,
   "id": "2b502e14-e01c-43e7-b546-7bd4df8a5504",
   "metadata": {
    "tags": []
   },
   "outputs": [
    {
     "data": {
      "text/html": [
       "<div>\n",
       "<style scoped>\n",
       "    .dataframe tbody tr th:only-of-type {\n",
       "        vertical-align: middle;\n",
       "    }\n",
       "\n",
       "    .dataframe tbody tr th {\n",
       "        vertical-align: top;\n",
       "    }\n",
       "\n",
       "    .dataframe thead th {\n",
       "        text-align: right;\n",
       "    }\n",
       "</style>\n",
       "<table border=\"1\" class=\"dataframe\">\n",
       "  <thead>\n",
       "    <tr style=\"text-align: right;\">\n",
       "      <th></th>\n",
       "      <th>p</th>\n",
       "      <th>f</th>\n",
       "    </tr>\n",
       "  </thead>\n",
       "  <tbody>\n",
       "    <tr>\n",
       "      <th>bathrooms</th>\n",
       "      <td>0.0</td>\n",
       "      <td>8379.704635</td>\n",
       "    </tr>\n",
       "    <tr>\n",
       "      <th>bedrooms</th>\n",
       "      <td>0.0</td>\n",
       "      <td>2076.446842</td>\n",
       "    </tr>\n",
       "    <tr>\n",
       "      <th>sqft</th>\n",
       "      <td>0.0</td>\n",
       "      <td>13045.327108</td>\n",
       "    </tr>\n",
       "    <tr>\n",
       "      <th>yearbuilt</th>\n",
       "      <td>0.0</td>\n",
       "      <td>2589.308833</td>\n",
       "    </tr>\n",
       "    <tr>\n",
       "      <th>house_age</th>\n",
       "      <td>0.0</td>\n",
       "      <td>2589.308833</td>\n",
       "    </tr>\n",
       "    <tr>\n",
       "      <th>bb_roomcnt</th>\n",
       "      <td>0.0</td>\n",
       "      <td>5675.662778</td>\n",
       "    </tr>\n",
       "  </tbody>\n",
       "</table>\n",
       "</div>"
      ],
      "text/plain": [
       "              p             f\n",
       "bathrooms   0.0   8379.704635\n",
       "bedrooms    0.0   2076.446842\n",
       "sqft        0.0  13045.327108\n",
       "yearbuilt   0.0   2589.308833\n",
       "house_age   0.0   2589.308833\n",
       "bb_roomcnt  0.0   5675.662778"
      ]
     },
     "execution_count": 11,
     "metadata": {},
     "output_type": "execute_result"
    }
   ],
   "source": [
    "# make it into a dataframe\n",
    "kbest_results = pd.DataFrame(\n",
    "                dict(p=kbest.pvalues_, f=kbest.scores_),\n",
    "                                        index = X_train.columns)\n",
    "kbest_results"
   ]
  },
  {
   "cell_type": "markdown",
   "id": "0795cca7-53fb-48a5-9256-bcea20d08667",
   "metadata": {
    "tags": []
   },
   "source": [
    "What does RFE say?"
   ]
  },
  {
   "cell_type": "code",
   "execution_count": 12,
   "id": "610351de-47fe-4810-be11-19128c2b1287",
   "metadata": {
    "tags": []
   },
   "outputs": [
    {
     "data": {
      "text/html": [
       "<div>\n",
       "<style scoped>\n",
       "    .dataframe tbody tr th:only-of-type {\n",
       "        vertical-align: middle;\n",
       "    }\n",
       "\n",
       "    .dataframe tbody tr th {\n",
       "        vertical-align: top;\n",
       "    }\n",
       "\n",
       "    .dataframe thead th {\n",
       "        text-align: right;\n",
       "    }\n",
       "</style>\n",
       "<table border=\"1\" class=\"dataframe\">\n",
       "  <thead>\n",
       "    <tr style=\"text-align: right;\">\n",
       "      <th></th>\n",
       "      <th>features</th>\n",
       "    </tr>\n",
       "    <tr>\n",
       "      <th>rank</th>\n",
       "      <th></th>\n",
       "    </tr>\n",
       "  </thead>\n",
       "  <tbody>\n",
       "    <tr>\n",
       "      <th>1</th>\n",
       "      <td>bathrooms</td>\n",
       "    </tr>\n",
       "    <tr>\n",
       "      <th>3</th>\n",
       "      <td>bedrooms</td>\n",
       "    </tr>\n",
       "    <tr>\n",
       "      <th>4</th>\n",
       "      <td>sqft</td>\n",
       "    </tr>\n",
       "    <tr>\n",
       "      <th>1</th>\n",
       "      <td>yearbuilt</td>\n",
       "    </tr>\n",
       "    <tr>\n",
       "      <th>1</th>\n",
       "      <td>house_age</td>\n",
       "    </tr>\n",
       "    <tr>\n",
       "      <th>2</th>\n",
       "      <td>bb_roomcnt</td>\n",
       "    </tr>\n",
       "  </tbody>\n",
       "</table>\n",
       "</div>"
      ],
      "text/plain": [
       "        features\n",
       "rank            \n",
       "1      bathrooms\n",
       "3       bedrooms\n",
       "4           sqft\n",
       "1      yearbuilt\n",
       "1      house_age\n",
       "2     bb_roomcnt"
      ]
     },
     "execution_count": 12,
     "metadata": {},
     "output_type": "execute_result"
    }
   ],
   "source": [
    "lm = LinearRegression()\n",
    "\n",
    "rfe = RFE(lm, n_features_to_select= 3)\n",
    "\n",
    "rfe.fit(X_train, y_train)\n",
    "\n",
    "ranks = rfe.ranking_\n",
    "names = X_train.columns.tolist()\n",
    "\n",
    "pd.DataFrame({'features': names, 'rank': ranks}).set_index('rank')"
   ]
  },
  {
   "cell_type": "code",
   "execution_count": 13,
   "id": "4bd02cb9-7194-43a2-bd40-fd57a0de2f10",
   "metadata": {
    "tags": []
   },
   "outputs": [],
   "source": [
    "# create the function: \n",
    "def select_kbest(x, y, k_value):\n",
    "    '''\n",
    "    This funciton will take in the predictors (x), the target(y), and the numebr of features to select and \n",
    "    returns the top k selectef features based on the SelectKbest class. \n",
    "    '''\n",
    "    \n",
    "\n",
    "    \n",
    "    # make the thing: \n",
    "    kbest = SelectKBest(f_regression, k = k_value)\n",
    "    \n",
    "    #fit the thing\n",
    "    kbest.fit(x, y)\n",
    "    \n",
    "    # return a dataframe with the names\n",
    "    kbest_results = pd.DataFrame(\n",
    "                dict(p=kbest.pvalues_, f=kbest.scores_),\n",
    "                                        index = x.columns)\n",
    "    \n",
    "    # returns the dataframe with the top kbest features\n",
    "    return kbest_results.head(k_value)"
   ]
  },
  {
   "cell_type": "code",
   "execution_count": 14,
   "id": "ff1fcfe0-3c89-488b-bb18-4945af764e4f",
   "metadata": {
    "tags": []
   },
   "outputs": [
    {
     "data": {
      "text/html": [
       "<div>\n",
       "<style scoped>\n",
       "    .dataframe tbody tr th:only-of-type {\n",
       "        vertical-align: middle;\n",
       "    }\n",
       "\n",
       "    .dataframe tbody tr th {\n",
       "        vertical-align: top;\n",
       "    }\n",
       "\n",
       "    .dataframe thead th {\n",
       "        text-align: right;\n",
       "    }\n",
       "</style>\n",
       "<table border=\"1\" class=\"dataframe\">\n",
       "  <thead>\n",
       "    <tr style=\"text-align: right;\">\n",
       "      <th></th>\n",
       "      <th>p</th>\n",
       "      <th>f</th>\n",
       "    </tr>\n",
       "  </thead>\n",
       "  <tbody>\n",
       "    <tr>\n",
       "      <th>bathrooms</th>\n",
       "      <td>0.0</td>\n",
       "      <td>8379.704635</td>\n",
       "    </tr>\n",
       "    <tr>\n",
       "      <th>bedrooms</th>\n",
       "      <td>0.0</td>\n",
       "      <td>2076.446842</td>\n",
       "    </tr>\n",
       "    <tr>\n",
       "      <th>sqft</th>\n",
       "      <td>0.0</td>\n",
       "      <td>13045.327108</td>\n",
       "    </tr>\n",
       "  </tbody>\n",
       "</table>\n",
       "</div>"
      ],
      "text/plain": [
       "             p             f\n",
       "bathrooms  0.0   8379.704635\n",
       "bedrooms   0.0   2076.446842\n",
       "sqft       0.0  13045.327108"
      ]
     },
     "execution_count": 14,
     "metadata": {},
     "output_type": "execute_result"
    }
   ],
   "source": [
    "select_kbest(X_train, y_train, 3)"
   ]
  },
  {
   "cell_type": "code",
   "execution_count": 15,
   "id": "4e01b13b-501a-4332-978c-86d92efc2ab7",
   "metadata": {
    "tags": []
   },
   "outputs": [],
   "source": [
    "# create a function: \n",
    "def rfe(x, y, k_value):\n",
    "    '''\n",
    "    This function will take in predicotrs(x), the target(y), and the number of features to select k_value\n",
    "    It will return the top n feautres based on the RFE class.\n",
    "    '''\n",
    "    \n",
    "    model = LinearRegression()\n",
    "    \n",
    "    rfe = RFE(model, n_features_to_select=k_value)\n",
    "    \n",
    "    rfe.fit(x, y)\n",
    "    \n",
    "    \n",
    "    df = pd.DataFrame(\n",
    "{\n",
    "    'rfe_ranking':rfe.ranking_\n",
    "}, index = X_train.columns)\n",
    "    \n",
    "    return df"
   ]
  },
  {
   "cell_type": "code",
   "execution_count": 16,
   "id": "cedd5abd-2a2a-45a6-a369-767951037661",
   "metadata": {
    "tags": []
   },
   "outputs": [
    {
     "data": {
      "text/html": [
       "<div>\n",
       "<style scoped>\n",
       "    .dataframe tbody tr th:only-of-type {\n",
       "        vertical-align: middle;\n",
       "    }\n",
       "\n",
       "    .dataframe tbody tr th {\n",
       "        vertical-align: top;\n",
       "    }\n",
       "\n",
       "    .dataframe thead th {\n",
       "        text-align: right;\n",
       "    }\n",
       "</style>\n",
       "<table border=\"1\" class=\"dataframe\">\n",
       "  <thead>\n",
       "    <tr style=\"text-align: right;\">\n",
       "      <th></th>\n",
       "      <th>rfe_ranking</th>\n",
       "    </tr>\n",
       "  </thead>\n",
       "  <tbody>\n",
       "    <tr>\n",
       "      <th>bathrooms</th>\n",
       "      <td>1</td>\n",
       "    </tr>\n",
       "    <tr>\n",
       "      <th>bedrooms</th>\n",
       "      <td>3</td>\n",
       "    </tr>\n",
       "    <tr>\n",
       "      <th>sqft</th>\n",
       "      <td>4</td>\n",
       "    </tr>\n",
       "    <tr>\n",
       "      <th>yearbuilt</th>\n",
       "      <td>1</td>\n",
       "    </tr>\n",
       "    <tr>\n",
       "      <th>house_age</th>\n",
       "      <td>1</td>\n",
       "    </tr>\n",
       "    <tr>\n",
       "      <th>bb_roomcnt</th>\n",
       "      <td>2</td>\n",
       "    </tr>\n",
       "  </tbody>\n",
       "</table>\n",
       "</div>"
      ],
      "text/plain": [
       "            rfe_ranking\n",
       "bathrooms             1\n",
       "bedrooms              3\n",
       "sqft                  4\n",
       "yearbuilt             1\n",
       "house_age             1\n",
       "bb_roomcnt            2"
      ]
     },
     "execution_count": 16,
     "metadata": {},
     "output_type": "execute_result"
    }
   ],
   "source": [
    "rfe(X_train, y_train, 3)"
   ]
  },
  {
   "cell_type": "code",
   "execution_count": 17,
   "id": "24caefbc-ce00-4079-96ca-84372cc06ff0",
   "metadata": {
    "tags": []
   },
   "outputs": [],
   "source": [
    "def rfe_2(X, y, k=3):\n",
    "    rfe = RFE(LinearRegression(), n_features_to_select = k)\n",
    "    rfe.fit(X, y)\n",
    "    feature_mask = rfe.support_\n",
    "    \n",
    "    return X.iloc[:,feature_mask].columns.tolist()"
   ]
  },
  {
   "cell_type": "code",
   "execution_count": 18,
   "id": "e1ee5bd3-cee7-4711-9b5c-ed3a325cec3f",
   "metadata": {
    "tags": []
   },
   "outputs": [
    {
     "data": {
      "text/plain": [
       "['bathrooms', 'yearbuilt', 'house_age']"
      ]
     },
     "execution_count": 18,
     "metadata": {},
     "output_type": "execute_result"
    }
   ],
   "source": [
    "rfe_2(X_train, y_train)"
   ]
  },
  {
   "cell_type": "markdown",
   "id": "43833edc-a6e7-4f01-8e95-5f4df6ed29c0",
   "metadata": {},
   "source": [
    "Notes: \n",
    "- Select the K best features using a statistical test to compare each X with y and find which X's have the strongest relationship with y. For regression, we will use the correlation test (f-regression) to score the relationships.\n",
    "- Recursive Feature Elimination will create a model with all the features, evaluate the performance metrics, find the weakest feature, remove it, then create a new model with the remaining features, evaluate the performance metrics, find the weakest feature, remove it, and so on, until it gets down to the number of features you have indicated you want when creating the RFE object. You will also need to indicate which Machine Learning algorithm you want to use."
   ]
  },
  {
   "cell_type": "markdown",
   "id": "e1780028-91e9-4860-a2f5-64388c9f1ef3",
   "metadata": {},
   "source": [
    "# Modeling Part 1\n",
    "- This will be the long method learned in class\n",
    "- Complete each model by hand:\n",
    "    - Ordinary Least Squares\n",
    "    - LASSO + LARS\n",
    "    - Polynomial Regression\n",
    "    - Generalized Linear Model"
   ]
  },
  {
   "cell_type": "markdown",
   "id": "7a2ff3c3-1932-47da-9df4-dc27e915c8bf",
   "metadata": {},
   "source": [
    "##### Baseline: "
   ]
  },
  {
   "cell_type": "code",
   "execution_count": 19,
   "id": "372ac44d-4be2-4500-9d55-e7ced9a7e8dd",
   "metadata": {
    "tags": []
   },
   "outputs": [
    {
     "data": {
      "text/plain": [
       "376952.94495075947"
      ]
     },
     "execution_count": 19,
     "metadata": {},
     "output_type": "execute_result"
    }
   ],
   "source": [
    "baseline = y_train.mean()\n",
    "baseline"
   ]
  },
  {
   "cell_type": "code",
   "execution_count": 20,
   "id": "ea4c1a21-43bc-4c91-8fee-81ae50eae8a7",
   "metadata": {
    "tags": []
   },
   "outputs": [],
   "source": [
    "#evaluate function\n",
    "def evaluate_reg(y, yhat):\n",
    "    '''\n",
    "    based on two series, y_act, y_pred, (y, yhat), we\n",
    "    evaluate and return the root mean squared error\n",
    "    as well as the explained variance for the data.\n",
    "    \n",
    "    returns: rmse (float), rmse (float)\n",
    "    '''\n",
    "    rmse = mean_squared_error(y, yhat, squared=False)\n",
    "    r2 = r2_score(y, yhat)\n",
    "    return rmse, r2"
   ]
  },
  {
   "cell_type": "code",
   "execution_count": 21,
   "id": "5e5aef4c-c5eb-42ac-9bcb-d2c6bb791a72",
   "metadata": {
    "tags": []
   },
   "outputs": [],
   "source": [
    "#make an array to add to our database\n",
    "baseline_array = np.repeat(baseline, y_train.shape[0])"
   ]
  },
  {
   "cell_type": "code",
   "execution_count": 22,
   "id": "f4e0c8a7-6b33-4c61-8aa6-c2a949b81612",
   "metadata": {
    "tags": []
   },
   "outputs": [],
   "source": [
    "baseline_rmse, baseline_r2 = evaluate_reg(y_train, baseline_array)"
   ]
  },
  {
   "cell_type": "code",
   "execution_count": 23,
   "id": "e0337306-a9e0-4b9a-a31c-4d21d366d4f5",
   "metadata": {
    "tags": []
   },
   "outputs": [],
   "source": [
    "eval_df = pd.DataFrame([{\n",
    "    'model': 'baseline',\n",
    "    'rmse': baseline_rmse,\n",
    "    'r2': baseline_r2\n",
    "}])"
   ]
  },
  {
   "cell_type": "code",
   "execution_count": 24,
   "id": "ecee6316-aeaf-4d12-b402-855e99e75a4c",
   "metadata": {
    "tags": []
   },
   "outputs": [
    {
     "data": {
      "text/html": [
       "<div>\n",
       "<style scoped>\n",
       "    .dataframe tbody tr th:only-of-type {\n",
       "        vertical-align: middle;\n",
       "    }\n",
       "\n",
       "    .dataframe tbody tr th {\n",
       "        vertical-align: top;\n",
       "    }\n",
       "\n",
       "    .dataframe thead th {\n",
       "        text-align: right;\n",
       "    }\n",
       "</style>\n",
       "<table border=\"1\" class=\"dataframe\">\n",
       "  <thead>\n",
       "    <tr style=\"text-align: right;\">\n",
       "      <th></th>\n",
       "      <th>model</th>\n",
       "      <th>rmse</th>\n",
       "      <th>r2</th>\n",
       "    </tr>\n",
       "  </thead>\n",
       "  <tbody>\n",
       "    <tr>\n",
       "      <th>0</th>\n",
       "      <td>baseline</td>\n",
       "      <td>270341.194955</td>\n",
       "      <td>0.0</td>\n",
       "    </tr>\n",
       "  </tbody>\n",
       "</table>\n",
       "</div>"
      ],
      "text/plain": [
       "      model           rmse   r2\n",
       "0  baseline  270341.194955  0.0"
      ]
     },
     "execution_count": 24,
     "metadata": {},
     "output_type": "execute_result"
    }
   ],
   "source": [
    "eval_df"
   ]
  },
  {
   "cell_type": "markdown",
   "id": "93d39178-47d1-4e60-ae06-1170de620351",
   "metadata": {},
   "source": [
    "One feature: yearbuilt"
   ]
  },
  {
   "cell_type": "code",
   "execution_count": 25,
   "id": "d9e8b17e-109f-4e6f-88f4-e0a707d0b882",
   "metadata": {
    "tags": []
   },
   "outputs": [],
   "source": [
    "# build the model:\n",
    "\n",
    "# with one feature: \n",
    "lr1 = LinearRegression()\n",
    "\n",
    "# rfe has entered the chat:\n",
    "rfe = RFE(lr1, n_features_to_select=1)\n",
    "\n",
    "# fit\n",
    "rfe.fit(X_train, y_train)\n",
    "\n",
    "# transform\n",
    "X_train_rfe_1 = rfe.transform(X_train)\n",
    "\n",
    "X_val_rfe_1 = rfe.transform(X_validate)\n"
   ]
  },
  {
   "cell_type": "code",
   "execution_count": 26,
   "id": "0ba90d59-f6e5-4db4-992e-3f84a67eee40",
   "metadata": {
    "tags": []
   },
   "outputs": [
    {
     "data": {
      "text/plain": [
       "array(['yearbuilt'], dtype=object)"
      ]
     },
     "execution_count": 26,
     "metadata": {},
     "output_type": "execute_result"
    }
   ],
   "source": [
    "rfe.get_feature_names_out()"
   ]
  },
  {
   "cell_type": "code",
   "execution_count": 27,
   "id": "0fe0c0ea-342f-4ae0-ab2a-882e2ebb2229",
   "metadata": {
    "tags": []
   },
   "outputs": [],
   "source": [
    "# make predicitons with the model: \n",
    "lr1.fit(X_train_rfe_1, y_train)\n",
    "\n",
    "# make predictions based on the model with one feature (selected by rfe)\n",
    "y_pred_val = lr1.predict(X_val_rfe_1)\n",
    "\n",
    "#evalute the model: \n",
    "evaluate_reg(y_train, lr1.predict(X_train_rfe_1))\n",
    "\n",
    "#add it to the data frame:\n",
    "rmse, r_2 = evaluate_reg(y_train, lr1.predict(X_train_rfe_1))\n",
    "eval_df = pd.concat([eval_df, pd.DataFrame(\n",
    "[\n",
    "    {\n",
    "        'model': 'ols_rfe_1',\n",
    "        'rmse': rmse,\n",
    "        'r2': r_2\n",
    "    }\n",
    "])], ignore_index=True, axis=0)"
   ]
  },
  {
   "cell_type": "code",
   "execution_count": 28,
   "id": "8c3af23c-f0b4-44ce-b983-2beb1ae926fc",
   "metadata": {
    "tags": []
   },
   "outputs": [
    {
     "data": {
      "text/html": [
       "<div>\n",
       "<style scoped>\n",
       "    .dataframe tbody tr th:only-of-type {\n",
       "        vertical-align: middle;\n",
       "    }\n",
       "\n",
       "    .dataframe tbody tr th {\n",
       "        vertical-align: top;\n",
       "    }\n",
       "\n",
       "    .dataframe thead th {\n",
       "        text-align: right;\n",
       "    }\n",
       "</style>\n",
       "<table border=\"1\" class=\"dataframe\">\n",
       "  <thead>\n",
       "    <tr style=\"text-align: right;\">\n",
       "      <th></th>\n",
       "      <th>model</th>\n",
       "      <th>rmse</th>\n",
       "      <th>r2</th>\n",
       "    </tr>\n",
       "  </thead>\n",
       "  <tbody>\n",
       "    <tr>\n",
       "      <th>0</th>\n",
       "      <td>baseline</td>\n",
       "      <td>270341.194955</td>\n",
       "      <td>0.000000</td>\n",
       "    </tr>\n",
       "    <tr>\n",
       "      <th>1</th>\n",
       "      <td>ols_rfe_1</td>\n",
       "      <td>259363.113640</td>\n",
       "      <td>0.079567</td>\n",
       "    </tr>\n",
       "  </tbody>\n",
       "</table>\n",
       "</div>"
      ],
      "text/plain": [
       "       model           rmse        r2\n",
       "0   baseline  270341.194955  0.000000\n",
       "1  ols_rfe_1  259363.113640  0.079567"
      ]
     },
     "execution_count": 28,
     "metadata": {},
     "output_type": "execute_result"
    }
   ],
   "source": [
    "eval_df"
   ]
  },
  {
   "cell_type": "code",
   "execution_count": 29,
   "id": "b630a94f-a133-490c-9267-849823573d03",
   "metadata": {
    "tags": []
   },
   "outputs": [],
   "source": [
    "# make a data frame to see how the model preforms in validate: \n",
    "val_rmse, val_r2 = evaluate_reg(y_validate, lr1.predict(X_val_rfe_1))\n",
    "val_dict = {\n",
    "    'model': 'ols_rfe_1',\n",
    "    'val_rmse': val_rmse,\n",
    "    'val_r2': val_r2\n",
    "}"
   ]
  },
  {
   "cell_type": "code",
   "execution_count": 30,
   "id": "a913cb1c-ec66-4330-8d28-180255c8acd9",
   "metadata": {
    "tags": []
   },
   "outputs": [],
   "source": [
    "val_scores = [val_dict]"
   ]
  },
  {
   "cell_type": "markdown",
   "id": "eeda2819-a34d-41a8-a9a7-7d940e28e5c4",
   "metadata": {},
   "source": [
    "Two Features: Yearbuilt, houseage"
   ]
  },
  {
   "cell_type": "code",
   "execution_count": 31,
   "id": "9905a8ab-eec2-4823-8350-dae8f6fcb632",
   "metadata": {
    "tags": []
   },
   "outputs": [],
   "source": [
    "# build the model:\n",
    "\n",
    "# with one feature: \n",
    "lr2 = LinearRegression()\n",
    "\n",
    "# rfe has entered the chat:\n",
    "rfe = RFE(lr1, n_features_to_select=2)\n",
    "\n",
    "# fit\n",
    "rfe.fit(X_train, y_train)\n",
    "\n",
    "# transform\n",
    "X_train_rfe_2 = rfe.transform(X_train)\n",
    "\n",
    "X_val_rfe_2 = rfe.transform(X_validate)"
   ]
  },
  {
   "cell_type": "code",
   "execution_count": 32,
   "id": "f01f0fa7-310a-492d-986c-667d7410a2d4",
   "metadata": {
    "tags": []
   },
   "outputs": [
    {
     "data": {
      "text/plain": [
       "array(['yearbuilt', 'house_age'], dtype=object)"
      ]
     },
     "execution_count": 32,
     "metadata": {},
     "output_type": "execute_result"
    }
   ],
   "source": [
    "rfe.get_feature_names_out()"
   ]
  },
  {
   "cell_type": "code",
   "execution_count": 33,
   "id": "48ede286-b230-4394-8394-ef99542195f6",
   "metadata": {
    "tags": []
   },
   "outputs": [],
   "source": [
    "# make predicitons with the model: \n",
    "lr2.fit(X_train_rfe_2, y_train)\n",
    "\n",
    "# make predictions based on the model with one feature (selected by rfe)\n",
    "y_pred_val = lr2.predict(X_val_rfe_2)\n",
    "\n",
    "#evalute the model: \n",
    "evaluate_reg(y_train, lr2.predict(X_train_rfe_2))\n",
    "\n",
    "#add it to the data frame:\n",
    "rmse, r_2 = evaluate_reg(y_train, lr2.predict(X_train_rfe_2))\n",
    "eval_df = pd.concat([eval_df, pd.DataFrame(\n",
    "[\n",
    "    {\n",
    "        'model': 'ols_rfe_2',\n",
    "        'rmse': rmse,\n",
    "        'r2': r_2\n",
    "    }\n",
    "])], ignore_index=True, axis=0)"
   ]
  },
  {
   "cell_type": "code",
   "execution_count": 34,
   "id": "1cfd66a9-c75c-4df9-a8bb-c4949207d8d9",
   "metadata": {
    "tags": []
   },
   "outputs": [
    {
     "data": {
      "text/html": [
       "<div>\n",
       "<style scoped>\n",
       "    .dataframe tbody tr th:only-of-type {\n",
       "        vertical-align: middle;\n",
       "    }\n",
       "\n",
       "    .dataframe tbody tr th {\n",
       "        vertical-align: top;\n",
       "    }\n",
       "\n",
       "    .dataframe thead th {\n",
       "        text-align: right;\n",
       "    }\n",
       "</style>\n",
       "<table border=\"1\" class=\"dataframe\">\n",
       "  <thead>\n",
       "    <tr style=\"text-align: right;\">\n",
       "      <th></th>\n",
       "      <th>model</th>\n",
       "      <th>rmse</th>\n",
       "      <th>r2</th>\n",
       "    </tr>\n",
       "  </thead>\n",
       "  <tbody>\n",
       "    <tr>\n",
       "      <th>0</th>\n",
       "      <td>baseline</td>\n",
       "      <td>270341.194955</td>\n",
       "      <td>0.000000</td>\n",
       "    </tr>\n",
       "    <tr>\n",
       "      <th>1</th>\n",
       "      <td>ols_rfe_1</td>\n",
       "      <td>259363.113640</td>\n",
       "      <td>0.079567</td>\n",
       "    </tr>\n",
       "    <tr>\n",
       "      <th>2</th>\n",
       "      <td>ols_rfe_2</td>\n",
       "      <td>259363.749996</td>\n",
       "      <td>0.079563</td>\n",
       "    </tr>\n",
       "  </tbody>\n",
       "</table>\n",
       "</div>"
      ],
      "text/plain": [
       "       model           rmse        r2\n",
       "0   baseline  270341.194955  0.000000\n",
       "1  ols_rfe_1  259363.113640  0.079567\n",
       "2  ols_rfe_2  259363.749996  0.079563"
      ]
     },
     "execution_count": 34,
     "metadata": {},
     "output_type": "execute_result"
    }
   ],
   "source": [
    "eval_df"
   ]
  },
  {
   "cell_type": "code",
   "execution_count": 35,
   "id": "72485c7e-abd4-40cd-8b12-9a8b94ce82df",
   "metadata": {
    "tags": []
   },
   "outputs": [],
   "source": [
    "val_rmse, val_r2 = evaluate_reg(y_validate, lr2.predict(X_val_rfe_2))\n",
    "val_dict = {\n",
    "    'model': 'ols_rfe_2',\n",
    "    'val_rmse': val_rmse,\n",
    "    'val_r2': val_r2\n",
    "}\n",
    "val_scores.append(val_dict)"
   ]
  },
  {
   "cell_type": "markdown",
   "id": "0f973bb1-a4d1-426d-99df-42e8b5aa0b40",
   "metadata": {},
   "source": [
    "Three features: bathrooms, yearbuilt, house_age"
   ]
  },
  {
   "cell_type": "code",
   "execution_count": 36,
   "id": "f0bca14a-48bf-4f5f-a8d6-1e6bd8983c18",
   "metadata": {
    "tags": []
   },
   "outputs": [],
   "source": [
    "# build the model:\n",
    "\n",
    "# with one feature: \n",
    "lr3 = LinearRegression()\n",
    "\n",
    "# rfe has entered the chat:\n",
    "rfe = RFE(lr3, n_features_to_select=3)\n",
    "\n",
    "# fit\n",
    "rfe.fit(X_train, y_train)\n",
    "\n",
    "# transform\n",
    "X_train_rfe_3 = rfe.transform(X_train)\n",
    "\n",
    "X_val_rfe_3 = rfe.transform(X_validate)"
   ]
  },
  {
   "cell_type": "code",
   "execution_count": 37,
   "id": "9983f932-e35a-4d16-a5cd-3740f26a654e",
   "metadata": {
    "tags": []
   },
   "outputs": [
    {
     "data": {
      "text/plain": [
       "array(['bathrooms', 'yearbuilt', 'house_age'], dtype=object)"
      ]
     },
     "execution_count": 37,
     "metadata": {},
     "output_type": "execute_result"
    }
   ],
   "source": [
    "rfe.get_feature_names_out()"
   ]
  },
  {
   "cell_type": "code",
   "execution_count": 38,
   "id": "255bf1dc-3825-4c2b-9d31-f35d4d144668",
   "metadata": {
    "tags": []
   },
   "outputs": [],
   "source": [
    "# make predicitons with the model: \n",
    "lr3.fit(X_train_rfe_3, y_train)\n",
    "\n",
    "# make predictions based on the model with one feature (selected by rfe)\n",
    "y_pred_val = lr3.predict(X_val_rfe_3)\n",
    "\n",
    "#evalute the model: \n",
    "evaluate_reg(y_train, lr3.predict(X_train_rfe_3))\n",
    "\n",
    "#add it to the data frame:\n",
    "rmse, r_2 = evaluate_reg(y_train, lr3.predict(X_train_rfe_3))\n",
    "eval_df = pd.concat([eval_df, pd.DataFrame(\n",
    "[\n",
    "    {\n",
    "        'model': 'ols_rfe_3',\n",
    "        'rmse': rmse,\n",
    "        'r2': r_2\n",
    "    }\n",
    "])], ignore_index=True, axis=0)"
   ]
  },
  {
   "cell_type": "code",
   "execution_count": 39,
   "id": "e14f6781-8357-4698-a2fa-3468da332ef0",
   "metadata": {
    "tags": []
   },
   "outputs": [
    {
     "data": {
      "text/html": [
       "<div>\n",
       "<style scoped>\n",
       "    .dataframe tbody tr th:only-of-type {\n",
       "        vertical-align: middle;\n",
       "    }\n",
       "\n",
       "    .dataframe tbody tr th {\n",
       "        vertical-align: top;\n",
       "    }\n",
       "\n",
       "    .dataframe thead th {\n",
       "        text-align: right;\n",
       "    }\n",
       "</style>\n",
       "<table border=\"1\" class=\"dataframe\">\n",
       "  <thead>\n",
       "    <tr style=\"text-align: right;\">\n",
       "      <th></th>\n",
       "      <th>model</th>\n",
       "      <th>rmse</th>\n",
       "      <th>r2</th>\n",
       "    </tr>\n",
       "  </thead>\n",
       "  <tbody>\n",
       "    <tr>\n",
       "      <th>0</th>\n",
       "      <td>baseline</td>\n",
       "      <td>270341.194955</td>\n",
       "      <td>0.000000</td>\n",
       "    </tr>\n",
       "    <tr>\n",
       "      <th>1</th>\n",
       "      <td>ols_rfe_1</td>\n",
       "      <td>259363.113640</td>\n",
       "      <td>0.079567</td>\n",
       "    </tr>\n",
       "    <tr>\n",
       "      <th>2</th>\n",
       "      <td>ols_rfe_2</td>\n",
       "      <td>259363.749996</td>\n",
       "      <td>0.079563</td>\n",
       "    </tr>\n",
       "    <tr>\n",
       "      <th>3</th>\n",
       "      <td>ols_rfe_3</td>\n",
       "      <td>238825.445478</td>\n",
       "      <td>0.219565</td>\n",
       "    </tr>\n",
       "  </tbody>\n",
       "</table>\n",
       "</div>"
      ],
      "text/plain": [
       "       model           rmse        r2\n",
       "0   baseline  270341.194955  0.000000\n",
       "1  ols_rfe_1  259363.113640  0.079567\n",
       "2  ols_rfe_2  259363.749996  0.079563\n",
       "3  ols_rfe_3  238825.445478  0.219565"
      ]
     },
     "execution_count": 39,
     "metadata": {},
     "output_type": "execute_result"
    }
   ],
   "source": [
    "eval_df"
   ]
  },
  {
   "cell_type": "code",
   "execution_count": 40,
   "id": "6eb94075-36e4-46c0-b962-25dd2390dc40",
   "metadata": {
    "tags": []
   },
   "outputs": [],
   "source": [
    "val_rmse, val_r2 = evaluate_reg(y_validate, lr3.predict(X_val_rfe_3))\n",
    "val_dict = {\n",
    "    'model': 'ols_rfe_3',\n",
    "    'val_rmse': val_rmse,\n",
    "    'val_r2': val_r2\n",
    "}\n",
    "val_scores.append(val_dict)"
   ]
  },
  {
   "cell_type": "markdown",
   "id": "b8f0b09e-d497-4a79-aa48-6ae7dcfd48ae",
   "metadata": {},
   "source": [
    "All Features:"
   ]
  },
  {
   "cell_type": "code",
   "execution_count": 41,
   "id": "a189ce15-1ff0-40f8-be51-2ce01d6aac0f",
   "metadata": {
    "tags": []
   },
   "outputs": [],
   "source": [
    "lr4 = LinearRegression()\n",
    "\n",
    "lr4.fit(X_train, y_train)\n",
    "\n",
    "rmse, r_2 = evaluate_reg(y_train, lr4.predict(X_train))\n",
    "eval_df = pd.concat([eval_df, pd.DataFrame(\n",
    "[\n",
    "    {\n",
    "        'model': 'ols_all_feats',\n",
    "        'rmse': rmse,\n",
    "        'r2': r_2\n",
    "    }\n",
    "])], ignore_index=True, axis=0)"
   ]
  },
  {
   "cell_type": "code",
   "execution_count": 42,
   "id": "74fb11c2-b31e-4710-8787-06a8d8f92850",
   "metadata": {
    "tags": []
   },
   "outputs": [],
   "source": [
    "val_rmse, val_r2 = evaluate_reg(y_validate, lr4.predict(X_validate))\n",
    "val_dict = {\n",
    "    'model': 'ols_all_feats',\n",
    "    'val_rmse': val_rmse,\n",
    "    'val_r2': val_r2\n",
    "}\n",
    "val_scores.append(val_dict)"
   ]
  },
  {
   "cell_type": "code",
   "execution_count": 43,
   "id": "a9a96437-0a1c-4144-acaa-05fe7cc19008",
   "metadata": {
    "tags": []
   },
   "outputs": [
    {
     "data": {
      "text/html": [
       "<div>\n",
       "<style scoped>\n",
       "    .dataframe tbody tr th:only-of-type {\n",
       "        vertical-align: middle;\n",
       "    }\n",
       "\n",
       "    .dataframe tbody tr th {\n",
       "        vertical-align: top;\n",
       "    }\n",
       "\n",
       "    .dataframe thead th {\n",
       "        text-align: right;\n",
       "    }\n",
       "</style>\n",
       "<table border=\"1\" class=\"dataframe\">\n",
       "  <thead>\n",
       "    <tr style=\"text-align: right;\">\n",
       "      <th></th>\n",
       "      <th>model</th>\n",
       "      <th>rmse</th>\n",
       "      <th>r2</th>\n",
       "    </tr>\n",
       "  </thead>\n",
       "  <tbody>\n",
       "    <tr>\n",
       "      <th>0</th>\n",
       "      <td>baseline</td>\n",
       "      <td>270341.194955</td>\n",
       "      <td>0.000000</td>\n",
       "    </tr>\n",
       "    <tr>\n",
       "      <th>1</th>\n",
       "      <td>ols_rfe_1</td>\n",
       "      <td>259363.113640</td>\n",
       "      <td>0.079567</td>\n",
       "    </tr>\n",
       "    <tr>\n",
       "      <th>2</th>\n",
       "      <td>ols_rfe_2</td>\n",
       "      <td>259363.749996</td>\n",
       "      <td>0.079563</td>\n",
       "    </tr>\n",
       "    <tr>\n",
       "      <th>3</th>\n",
       "      <td>ols_rfe_3</td>\n",
       "      <td>238825.445478</td>\n",
       "      <td>0.219565</td>\n",
       "    </tr>\n",
       "    <tr>\n",
       "      <th>4</th>\n",
       "      <td>ols_all_feats</td>\n",
       "      <td>223119.210120</td>\n",
       "      <td>0.318839</td>\n",
       "    </tr>\n",
       "  </tbody>\n",
       "</table>\n",
       "</div>"
      ],
      "text/plain": [
       "           model           rmse        r2\n",
       "0       baseline  270341.194955  0.000000\n",
       "1      ols_rfe_1  259363.113640  0.079567\n",
       "2      ols_rfe_2  259363.749996  0.079563\n",
       "3      ols_rfe_3  238825.445478  0.219565\n",
       "4  ols_all_feats  223119.210120  0.318839"
      ]
     },
     "execution_count": 43,
     "metadata": {},
     "output_type": "execute_result"
    }
   ],
   "source": [
    "eval_df"
   ]
  },
  {
   "cell_type": "markdown",
   "id": "d67bdb86-6638-44cf-8913-2044133f0807",
   "metadata": {},
   "source": [
    "## LassoLars"
   ]
  },
  {
   "cell_type": "code",
   "execution_count": 44,
   "id": "bb1ffbf8-88a6-4c5f-bac5-f187cb111054",
   "metadata": {
    "tags": []
   },
   "outputs": [],
   "source": [
    "#imports \n",
    "from sklearn.linear_model import LassoLars"
   ]
  },
  {
   "cell_type": "code",
   "execution_count": 45,
   "id": "c9c6b765-589d-4af4-bcfa-f264fb94520c",
   "metadata": {
    "tags": []
   },
   "outputs": [],
   "source": [
    "# fit a version of this that has an alpha of 1:\n",
    "# make it\n",
    "lasso = LassoLars(alpha=1)\n",
    "# fit it:\n",
    "lasso = lasso.fit(X_train, y_train)"
   ]
  },
  {
   "cell_type": "code",
   "execution_count": 46,
   "id": "8e5dbbca-71aa-46bb-ae02-96d08c6e9ae2",
   "metadata": {
    "tags": []
   },
   "outputs": [],
   "source": [
    "rmse, r_2 = evaluate_reg(y_train, lasso.predict(X_train))\n",
    "eval_df = pd.concat([eval_df, pd.DataFrame(\n",
    "[\n",
    "    {\n",
    "        'model': 'lasso',\n",
    "        'rmse': rmse,\n",
    "        'r2': r_2\n",
    "    }\n",
    "])], ignore_index=True, axis=0)"
   ]
  },
  {
   "cell_type": "code",
   "execution_count": 47,
   "id": "730ec87b-1e00-4fc6-8eac-4738994a5216",
   "metadata": {
    "tags": []
   },
   "outputs": [],
   "source": [
    "val_rmse, val_r2 = evaluate_reg(y_validate, lasso.predict(X_validate))\n",
    "val_dict = {\n",
    "    'model': 'lasso',\n",
    "    'val_rmse': val_rmse,\n",
    "    'val_r2': val_r2\n",
    "}"
   ]
  },
  {
   "cell_type": "code",
   "execution_count": 48,
   "id": "1b1a394b-0f93-4318-8c88-2e67053d9a90",
   "metadata": {
    "tags": []
   },
   "outputs": [],
   "source": [
    "val_scores.append(val_dict)"
   ]
  },
  {
   "cell_type": "code",
   "execution_count": 49,
   "id": "b8332de7-5806-4f79-8c42-9c6fb42226e3",
   "metadata": {
    "tags": []
   },
   "outputs": [
    {
     "data": {
      "text/html": [
       "<div>\n",
       "<style scoped>\n",
       "    .dataframe tbody tr th:only-of-type {\n",
       "        vertical-align: middle;\n",
       "    }\n",
       "\n",
       "    .dataframe tbody tr th {\n",
       "        vertical-align: top;\n",
       "    }\n",
       "\n",
       "    .dataframe thead th {\n",
       "        text-align: right;\n",
       "    }\n",
       "</style>\n",
       "<table border=\"1\" class=\"dataframe\">\n",
       "  <thead>\n",
       "    <tr style=\"text-align: right;\">\n",
       "      <th></th>\n",
       "      <th>model</th>\n",
       "      <th>rmse</th>\n",
       "      <th>r2</th>\n",
       "    </tr>\n",
       "  </thead>\n",
       "  <tbody>\n",
       "    <tr>\n",
       "      <th>0</th>\n",
       "      <td>baseline</td>\n",
       "      <td>270341.194955</td>\n",
       "      <td>0.000000</td>\n",
       "    </tr>\n",
       "    <tr>\n",
       "      <th>1</th>\n",
       "      <td>ols_rfe_1</td>\n",
       "      <td>259363.113640</td>\n",
       "      <td>0.079567</td>\n",
       "    </tr>\n",
       "    <tr>\n",
       "      <th>2</th>\n",
       "      <td>ols_rfe_2</td>\n",
       "      <td>259363.749996</td>\n",
       "      <td>0.079563</td>\n",
       "    </tr>\n",
       "    <tr>\n",
       "      <th>3</th>\n",
       "      <td>ols_rfe_3</td>\n",
       "      <td>238825.445478</td>\n",
       "      <td>0.219565</td>\n",
       "    </tr>\n",
       "    <tr>\n",
       "      <th>4</th>\n",
       "      <td>ols_all_feats</td>\n",
       "      <td>223119.210120</td>\n",
       "      <td>0.318839</td>\n",
       "    </tr>\n",
       "    <tr>\n",
       "      <th>5</th>\n",
       "      <td>lasso</td>\n",
       "      <td>223115.875638</td>\n",
       "      <td>0.318860</td>\n",
       "    </tr>\n",
       "  </tbody>\n",
       "</table>\n",
       "</div>"
      ],
      "text/plain": [
       "           model           rmse        r2\n",
       "0       baseline  270341.194955  0.000000\n",
       "1      ols_rfe_1  259363.113640  0.079567\n",
       "2      ols_rfe_2  259363.749996  0.079563\n",
       "3      ols_rfe_3  238825.445478  0.219565\n",
       "4  ols_all_feats  223119.210120  0.318839\n",
       "5          lasso  223115.875638  0.318860"
      ]
     },
     "execution_count": 49,
     "metadata": {},
     "output_type": "execute_result"
    }
   ],
   "source": [
    "eval_df"
   ]
  },
  {
   "cell_type": "markdown",
   "id": "7acdb0f6-36a0-40ea-9b2e-f9659382de7d",
   "metadata": {},
   "source": [
    "## Polynomial Regression\n"
   ]
  },
  {
   "cell_type": "code",
   "execution_count": 50,
   "id": "1dadea9e-101d-42d0-938b-84ffc31ca834",
   "metadata": {
    "tags": []
   },
   "outputs": [],
   "source": [
    "# imports:\n",
    "from sklearn.preprocessing import PolynomialFeatures"
   ]
  },
  {
   "cell_type": "code",
   "execution_count": 51,
   "id": "73a3ab9b-be56-47a9-a1cc-37fb992a04cf",
   "metadata": {
    "tags": []
   },
   "outputs": [],
   "source": [
    "# do a preprocessing step with our training data\n",
    "# to transorm our x into combinations of x and x^2, x^3, etc\n",
    "pf = PolynomialFeatures(degree=2)\n",
    "# fit the thing, also use it\n",
    "x_train_sq = pf.fit_transform(X_train)\n",
    "# use this transformer to change our val and test:\n",
    "x_val_sq = pf.transform(X_validate)\n",
    "x_test_sq = pf.transform(X_test)"
   ]
  },
  {
   "cell_type": "code",
   "execution_count": 52,
   "id": "532ed32d-1740-406f-ac16-70514323d76d",
   "metadata": {
    "tags": []
   },
   "outputs": [
    {
     "data": {
      "text/html": [
       "<style>#sk-container-id-2 {color: black;}#sk-container-id-2 pre{padding: 0;}#sk-container-id-2 div.sk-toggleable {background-color: white;}#sk-container-id-2 label.sk-toggleable__label {cursor: pointer;display: block;width: 100%;margin-bottom: 0;padding: 0.3em;box-sizing: border-box;text-align: center;}#sk-container-id-2 label.sk-toggleable__label-arrow:before {content: \"▸\";float: left;margin-right: 0.25em;color: #696969;}#sk-container-id-2 label.sk-toggleable__label-arrow:hover:before {color: black;}#sk-container-id-2 div.sk-estimator:hover label.sk-toggleable__label-arrow:before {color: black;}#sk-container-id-2 div.sk-toggleable__content {max-height: 0;max-width: 0;overflow: hidden;text-align: left;background-color: #f0f8ff;}#sk-container-id-2 div.sk-toggleable__content pre {margin: 0.2em;color: black;border-radius: 0.25em;background-color: #f0f8ff;}#sk-container-id-2 input.sk-toggleable__control:checked~div.sk-toggleable__content {max-height: 200px;max-width: 100%;overflow: auto;}#sk-container-id-2 input.sk-toggleable__control:checked~label.sk-toggleable__label-arrow:before {content: \"▾\";}#sk-container-id-2 div.sk-estimator input.sk-toggleable__control:checked~label.sk-toggleable__label {background-color: #d4ebff;}#sk-container-id-2 div.sk-label input.sk-toggleable__control:checked~label.sk-toggleable__label {background-color: #d4ebff;}#sk-container-id-2 input.sk-hidden--visually {border: 0;clip: rect(1px 1px 1px 1px);clip: rect(1px, 1px, 1px, 1px);height: 1px;margin: -1px;overflow: hidden;padding: 0;position: absolute;width: 1px;}#sk-container-id-2 div.sk-estimator {font-family: monospace;background-color: #f0f8ff;border: 1px dotted black;border-radius: 0.25em;box-sizing: border-box;margin-bottom: 0.5em;}#sk-container-id-2 div.sk-estimator:hover {background-color: #d4ebff;}#sk-container-id-2 div.sk-parallel-item::after {content: \"\";width: 100%;border-bottom: 1px solid gray;flex-grow: 1;}#sk-container-id-2 div.sk-label:hover label.sk-toggleable__label {background-color: #d4ebff;}#sk-container-id-2 div.sk-serial::before {content: \"\";position: absolute;border-left: 1px solid gray;box-sizing: border-box;top: 0;bottom: 0;left: 50%;z-index: 0;}#sk-container-id-2 div.sk-serial {display: flex;flex-direction: column;align-items: center;background-color: white;padding-right: 0.2em;padding-left: 0.2em;position: relative;}#sk-container-id-2 div.sk-item {position: relative;z-index: 1;}#sk-container-id-2 div.sk-parallel {display: flex;align-items: stretch;justify-content: center;background-color: white;position: relative;}#sk-container-id-2 div.sk-item::before, #sk-container-id-2 div.sk-parallel-item::before {content: \"\";position: absolute;border-left: 1px solid gray;box-sizing: border-box;top: 0;bottom: 0;left: 50%;z-index: -1;}#sk-container-id-2 div.sk-parallel-item {display: flex;flex-direction: column;z-index: 1;position: relative;background-color: white;}#sk-container-id-2 div.sk-parallel-item:first-child::after {align-self: flex-end;width: 50%;}#sk-container-id-2 div.sk-parallel-item:last-child::after {align-self: flex-start;width: 50%;}#sk-container-id-2 div.sk-parallel-item:only-child::after {width: 0;}#sk-container-id-2 div.sk-dashed-wrapped {border: 1px dashed gray;margin: 0 0.4em 0.5em 0.4em;box-sizing: border-box;padding-bottom: 0.4em;background-color: white;}#sk-container-id-2 div.sk-label label {font-family: monospace;font-weight: bold;display: inline-block;line-height: 1.2em;}#sk-container-id-2 div.sk-label-container {text-align: center;}#sk-container-id-2 div.sk-container {/* jupyter's `normalize.less` sets `[hidden] { display: none; }` but bootstrap.min.css set `[hidden] { display: none !important; }` so we also need the `!important` here to be able to override the default hidden behavior on the sphinx rendered scikit-learn.org. See: https://github.com/scikit-learn/scikit-learn/issues/21755 */display: inline-block !important;position: relative;}#sk-container-id-2 div.sk-text-repr-fallback {display: none;}</style><div id=\"sk-container-id-2\" class=\"sk-top-container\"><div class=\"sk-text-repr-fallback\"><pre>LinearRegression()</pre><b>In a Jupyter environment, please rerun this cell to show the HTML representation or trust the notebook. <br />On GitHub, the HTML representation is unable to render, please try loading this page with nbviewer.org.</b></div><div class=\"sk-container\" hidden><div class=\"sk-item\"><div class=\"sk-estimator sk-toggleable\"><input class=\"sk-toggleable__control sk-hidden--visually\" id=\"sk-estimator-id-2\" type=\"checkbox\" checked><label for=\"sk-estimator-id-2\" class=\"sk-toggleable__label sk-toggleable__label-arrow\">LinearRegression</label><div class=\"sk-toggleable__content\"><pre>LinearRegression()</pre></div></div></div></div></div>"
      ],
      "text/plain": [
       "LinearRegression()"
      ]
     },
     "execution_count": 52,
     "metadata": {},
     "output_type": "execute_result"
    }
   ],
   "source": [
    "# make a new model for our polynomial regressor:\n",
    "plyreg = LinearRegression()\n",
    "plyreg.fit(x_train_sq, y_train)"
   ]
  },
  {
   "cell_type": "code",
   "execution_count": 53,
   "id": "25ae3702-390c-4159-92e4-86081d6a5637",
   "metadata": {
    "tags": []
   },
   "outputs": [],
   "source": [
    "rmse, r_2 = evaluate_reg(y_train, plyreg.predict(x_train_sq))\n",
    "eval_df = pd.concat([eval_df, pd.DataFrame(\n",
    "[\n",
    "    {\n",
    "        'model': 'quad_reg',\n",
    "        'rmse': rmse,\n",
    "        'r2': r_2\n",
    "    }\n",
    "])], ignore_index=True, axis=0)"
   ]
  },
  {
   "cell_type": "code",
   "execution_count": 54,
   "id": "880e0875-4e08-4ff9-920f-b4f4a4416eac",
   "metadata": {
    "tags": []
   },
   "outputs": [],
   "source": [
    "val_rmse, val_r2 = evaluate_reg(y_validate, plyreg.predict(x_val_sq))\n",
    "val_dict = {\n",
    "    'model': 'quad_reg',\n",
    "    'val_rmse': val_rmse,\n",
    "    'val_r2': val_r2\n",
    "}"
   ]
  },
  {
   "cell_type": "code",
   "execution_count": 55,
   "id": "5c5fc6fa-401a-4884-96bb-105e1772e734",
   "metadata": {
    "tags": []
   },
   "outputs": [],
   "source": [
    "val_scores.append(val_dict)"
   ]
  },
  {
   "cell_type": "code",
   "execution_count": 56,
   "id": "d9c0fd71-8339-4d09-ab4d-502986d378ce",
   "metadata": {
    "tags": []
   },
   "outputs": [
    {
     "data": {
      "text/html": [
       "<div>\n",
       "<style scoped>\n",
       "    .dataframe tbody tr th:only-of-type {\n",
       "        vertical-align: middle;\n",
       "    }\n",
       "\n",
       "    .dataframe tbody tr th {\n",
       "        vertical-align: top;\n",
       "    }\n",
       "\n",
       "    .dataframe thead th {\n",
       "        text-align: right;\n",
       "    }\n",
       "</style>\n",
       "<table border=\"1\" class=\"dataframe\">\n",
       "  <thead>\n",
       "    <tr style=\"text-align: right;\">\n",
       "      <th></th>\n",
       "      <th>model</th>\n",
       "      <th>rmse</th>\n",
       "      <th>r2</th>\n",
       "    </tr>\n",
       "  </thead>\n",
       "  <tbody>\n",
       "    <tr>\n",
       "      <th>0</th>\n",
       "      <td>baseline</td>\n",
       "      <td>270341.194955</td>\n",
       "      <td>0.000000</td>\n",
       "    </tr>\n",
       "    <tr>\n",
       "      <th>1</th>\n",
       "      <td>ols_rfe_1</td>\n",
       "      <td>259363.113640</td>\n",
       "      <td>0.079567</td>\n",
       "    </tr>\n",
       "    <tr>\n",
       "      <th>2</th>\n",
       "      <td>ols_rfe_2</td>\n",
       "      <td>259363.749996</td>\n",
       "      <td>0.079563</td>\n",
       "    </tr>\n",
       "    <tr>\n",
       "      <th>3</th>\n",
       "      <td>ols_rfe_3</td>\n",
       "      <td>238825.445478</td>\n",
       "      <td>0.219565</td>\n",
       "    </tr>\n",
       "    <tr>\n",
       "      <th>4</th>\n",
       "      <td>ols_all_feats</td>\n",
       "      <td>223119.210120</td>\n",
       "      <td>0.318839</td>\n",
       "    </tr>\n",
       "    <tr>\n",
       "      <th>5</th>\n",
       "      <td>lasso</td>\n",
       "      <td>223115.875638</td>\n",
       "      <td>0.318860</td>\n",
       "    </tr>\n",
       "    <tr>\n",
       "      <th>6</th>\n",
       "      <td>quad_reg</td>\n",
       "      <td>221925.412281</td>\n",
       "      <td>0.326109</td>\n",
       "    </tr>\n",
       "  </tbody>\n",
       "</table>\n",
       "</div>"
      ],
      "text/plain": [
       "           model           rmse        r2\n",
       "0       baseline  270341.194955  0.000000\n",
       "1      ols_rfe_1  259363.113640  0.079567\n",
       "2      ols_rfe_2  259363.749996  0.079563\n",
       "3      ols_rfe_3  238825.445478  0.219565\n",
       "4  ols_all_feats  223119.210120  0.318839\n",
       "5          lasso  223115.875638  0.318860\n",
       "6       quad_reg  221925.412281  0.326109"
      ]
     },
     "execution_count": 56,
     "metadata": {},
     "output_type": "execute_result"
    }
   ],
   "source": [
    "eval_df"
   ]
  },
  {
   "cell_type": "markdown",
   "id": "2e0b20b9-c507-42cb-b1e8-97ae2a9627b4",
   "metadata": {},
   "source": [
    "Feature engineer the Poloynomial Regression Model"
   ]
  },
  {
   "cell_type": "code",
   "execution_count": 57,
   "id": "708fd319-31be-4c4f-ba43-d2e625c7b04a",
   "metadata": {},
   "outputs": [],
   "source": [
    "# need to make specialized feature engineering\n",
    "train_scaled.head()\n",
    "\n",
    "to_drop = ['bedrooms','sqft','tax_value','bb_roomcnt']\n",
    "\n",
    "X_train_feat = train_scaled.drop(columns = to_drop)\n",
    "y_train_feat = train_scaled['tax_value']\n",
    "\n",
    "X_validate_feat = validate_scaled.drop(columns = to_drop)\n",
    "y_validate_feat = validate_scaled['tax_value']\n",
    "\n",
    "X_test_feat = validate_scaled.drop(columns = to_drop)\n",
    "y_test_feat = test_scaled['tax_value']"
   ]
  },
  {
   "cell_type": "code",
   "execution_count": 58,
   "id": "2e7229a8-8a31-4935-ad11-3fb3f212d7c4",
   "metadata": {},
   "outputs": [],
   "source": [
    "pf = PolynomialFeatures(degree=2)\n",
    "# fit the thing, also use it\n",
    "x_train_sq = pf.fit_transform(X_train_feat)\n",
    "# use this transformer to change our val and test:\n",
    "x_val_sq = pf.transform(X_validate_feat)\n",
    "x_test_sq = pf.transform(X_test_feat)"
   ]
  },
  {
   "cell_type": "code",
   "execution_count": 59,
   "id": "3cb587fb-ed57-477e-886e-e0236fa0892d",
   "metadata": {},
   "outputs": [
    {
     "data": {
      "text/html": [
       "<style>#sk-container-id-3 {color: black;}#sk-container-id-3 pre{padding: 0;}#sk-container-id-3 div.sk-toggleable {background-color: white;}#sk-container-id-3 label.sk-toggleable__label {cursor: pointer;display: block;width: 100%;margin-bottom: 0;padding: 0.3em;box-sizing: border-box;text-align: center;}#sk-container-id-3 label.sk-toggleable__label-arrow:before {content: \"▸\";float: left;margin-right: 0.25em;color: #696969;}#sk-container-id-3 label.sk-toggleable__label-arrow:hover:before {color: black;}#sk-container-id-3 div.sk-estimator:hover label.sk-toggleable__label-arrow:before {color: black;}#sk-container-id-3 div.sk-toggleable__content {max-height: 0;max-width: 0;overflow: hidden;text-align: left;background-color: #f0f8ff;}#sk-container-id-3 div.sk-toggleable__content pre {margin: 0.2em;color: black;border-radius: 0.25em;background-color: #f0f8ff;}#sk-container-id-3 input.sk-toggleable__control:checked~div.sk-toggleable__content {max-height: 200px;max-width: 100%;overflow: auto;}#sk-container-id-3 input.sk-toggleable__control:checked~label.sk-toggleable__label-arrow:before {content: \"▾\";}#sk-container-id-3 div.sk-estimator input.sk-toggleable__control:checked~label.sk-toggleable__label {background-color: #d4ebff;}#sk-container-id-3 div.sk-label input.sk-toggleable__control:checked~label.sk-toggleable__label {background-color: #d4ebff;}#sk-container-id-3 input.sk-hidden--visually {border: 0;clip: rect(1px 1px 1px 1px);clip: rect(1px, 1px, 1px, 1px);height: 1px;margin: -1px;overflow: hidden;padding: 0;position: absolute;width: 1px;}#sk-container-id-3 div.sk-estimator {font-family: monospace;background-color: #f0f8ff;border: 1px dotted black;border-radius: 0.25em;box-sizing: border-box;margin-bottom: 0.5em;}#sk-container-id-3 div.sk-estimator:hover {background-color: #d4ebff;}#sk-container-id-3 div.sk-parallel-item::after {content: \"\";width: 100%;border-bottom: 1px solid gray;flex-grow: 1;}#sk-container-id-3 div.sk-label:hover label.sk-toggleable__label {background-color: #d4ebff;}#sk-container-id-3 div.sk-serial::before {content: \"\";position: absolute;border-left: 1px solid gray;box-sizing: border-box;top: 0;bottom: 0;left: 50%;z-index: 0;}#sk-container-id-3 div.sk-serial {display: flex;flex-direction: column;align-items: center;background-color: white;padding-right: 0.2em;padding-left: 0.2em;position: relative;}#sk-container-id-3 div.sk-item {position: relative;z-index: 1;}#sk-container-id-3 div.sk-parallel {display: flex;align-items: stretch;justify-content: center;background-color: white;position: relative;}#sk-container-id-3 div.sk-item::before, #sk-container-id-3 div.sk-parallel-item::before {content: \"\";position: absolute;border-left: 1px solid gray;box-sizing: border-box;top: 0;bottom: 0;left: 50%;z-index: -1;}#sk-container-id-3 div.sk-parallel-item {display: flex;flex-direction: column;z-index: 1;position: relative;background-color: white;}#sk-container-id-3 div.sk-parallel-item:first-child::after {align-self: flex-end;width: 50%;}#sk-container-id-3 div.sk-parallel-item:last-child::after {align-self: flex-start;width: 50%;}#sk-container-id-3 div.sk-parallel-item:only-child::after {width: 0;}#sk-container-id-3 div.sk-dashed-wrapped {border: 1px dashed gray;margin: 0 0.4em 0.5em 0.4em;box-sizing: border-box;padding-bottom: 0.4em;background-color: white;}#sk-container-id-3 div.sk-label label {font-family: monospace;font-weight: bold;display: inline-block;line-height: 1.2em;}#sk-container-id-3 div.sk-label-container {text-align: center;}#sk-container-id-3 div.sk-container {/* jupyter's `normalize.less` sets `[hidden] { display: none; }` but bootstrap.min.css set `[hidden] { display: none !important; }` so we also need the `!important` here to be able to override the default hidden behavior on the sphinx rendered scikit-learn.org. See: https://github.com/scikit-learn/scikit-learn/issues/21755 */display: inline-block !important;position: relative;}#sk-container-id-3 div.sk-text-repr-fallback {display: none;}</style><div id=\"sk-container-id-3\" class=\"sk-top-container\"><div class=\"sk-text-repr-fallback\"><pre>LinearRegression()</pre><b>In a Jupyter environment, please rerun this cell to show the HTML representation or trust the notebook. <br />On GitHub, the HTML representation is unable to render, please try loading this page with nbviewer.org.</b></div><div class=\"sk-container\" hidden><div class=\"sk-item\"><div class=\"sk-estimator sk-toggleable\"><input class=\"sk-toggleable__control sk-hidden--visually\" id=\"sk-estimator-id-3\" type=\"checkbox\" checked><label for=\"sk-estimator-id-3\" class=\"sk-toggleable__label sk-toggleable__label-arrow\">LinearRegression</label><div class=\"sk-toggleable__content\"><pre>LinearRegression()</pre></div></div></div></div></div>"
      ],
      "text/plain": [
       "LinearRegression()"
      ]
     },
     "execution_count": 59,
     "metadata": {},
     "output_type": "execute_result"
    }
   ],
   "source": [
    "# make a new model for our polynomial regressor:\n",
    "plyreg = LinearRegression()\n",
    "plyreg.fit(x_train_sq, y_train_feat)"
   ]
  },
  {
   "cell_type": "code",
   "execution_count": 60,
   "id": "e520b851-a3bf-4c30-be0f-3b8ad14c6863",
   "metadata": {},
   "outputs": [],
   "source": [
    "rmse, r_2 = evaluate_reg(y_train, plyreg.predict(x_train_sq))\n",
    "eval_df = pd.concat([eval_df, pd.DataFrame(\n",
    "[\n",
    "    {\n",
    "        'model': 'quad_reg_2',\n",
    "        'rmse': rmse,\n",
    "        'r2': r_2\n",
    "    }\n",
    "])], ignore_index=True, axis=0)"
   ]
  },
  {
   "cell_type": "code",
   "execution_count": 61,
   "id": "dc2a346b-6755-48f3-9f35-611174305c60",
   "metadata": {},
   "outputs": [],
   "source": [
    "val_rmse, val_r2 = evaluate_reg(y_validate, plyreg.predict(x_val_sq))\n",
    "val_dict = {\n",
    "    'model': 'quad_reg_2',\n",
    "    'val_rmse': val_rmse,\n",
    "    'val_r2': val_r2\n",
    "}"
   ]
  },
  {
   "cell_type": "code",
   "execution_count": 62,
   "id": "ad58df29-3ccb-4f8c-ae9a-d647c45b4f25",
   "metadata": {},
   "outputs": [],
   "source": [
    "val_scores.append(val_dict)"
   ]
  },
  {
   "cell_type": "code",
   "execution_count": 63,
   "id": "e418b415-21cc-411e-9cff-9e31b7036b93",
   "metadata": {},
   "outputs": [
    {
     "data": {
      "text/html": [
       "<div>\n",
       "<style scoped>\n",
       "    .dataframe tbody tr th:only-of-type {\n",
       "        vertical-align: middle;\n",
       "    }\n",
       "\n",
       "    .dataframe tbody tr th {\n",
       "        vertical-align: top;\n",
       "    }\n",
       "\n",
       "    .dataframe thead th {\n",
       "        text-align: right;\n",
       "    }\n",
       "</style>\n",
       "<table border=\"1\" class=\"dataframe\">\n",
       "  <thead>\n",
       "    <tr style=\"text-align: right;\">\n",
       "      <th></th>\n",
       "      <th>model</th>\n",
       "      <th>rmse</th>\n",
       "      <th>r2</th>\n",
       "    </tr>\n",
       "  </thead>\n",
       "  <tbody>\n",
       "    <tr>\n",
       "      <th>0</th>\n",
       "      <td>baseline</td>\n",
       "      <td>270341.194955</td>\n",
       "      <td>0.000000</td>\n",
       "    </tr>\n",
       "    <tr>\n",
       "      <th>1</th>\n",
       "      <td>ols_rfe_1</td>\n",
       "      <td>259363.113640</td>\n",
       "      <td>0.079567</td>\n",
       "    </tr>\n",
       "    <tr>\n",
       "      <th>2</th>\n",
       "      <td>ols_rfe_2</td>\n",
       "      <td>259363.749996</td>\n",
       "      <td>0.079563</td>\n",
       "    </tr>\n",
       "    <tr>\n",
       "      <th>3</th>\n",
       "      <td>ols_rfe_3</td>\n",
       "      <td>238825.445478</td>\n",
       "      <td>0.219565</td>\n",
       "    </tr>\n",
       "    <tr>\n",
       "      <th>4</th>\n",
       "      <td>ols_all_feats</td>\n",
       "      <td>223119.210120</td>\n",
       "      <td>0.318839</td>\n",
       "    </tr>\n",
       "    <tr>\n",
       "      <th>5</th>\n",
       "      <td>lasso</td>\n",
       "      <td>223115.875638</td>\n",
       "      <td>0.318860</td>\n",
       "    </tr>\n",
       "    <tr>\n",
       "      <th>6</th>\n",
       "      <td>quad_reg</td>\n",
       "      <td>221925.412281</td>\n",
       "      <td>0.326109</td>\n",
       "    </tr>\n",
       "    <tr>\n",
       "      <th>7</th>\n",
       "      <td>quad_reg_2</td>\n",
       "      <td>235071.298021</td>\n",
       "      <td>0.243908</td>\n",
       "    </tr>\n",
       "  </tbody>\n",
       "</table>\n",
       "</div>"
      ],
      "text/plain": [
       "           model           rmse        r2\n",
       "0       baseline  270341.194955  0.000000\n",
       "1      ols_rfe_1  259363.113640  0.079567\n",
       "2      ols_rfe_2  259363.749996  0.079563\n",
       "3      ols_rfe_3  238825.445478  0.219565\n",
       "4  ols_all_feats  223119.210120  0.318839\n",
       "5          lasso  223115.875638  0.318860\n",
       "6       quad_reg  221925.412281  0.326109\n",
       "7     quad_reg_2  235071.298021  0.243908"
      ]
     },
     "execution_count": 63,
     "metadata": {},
     "output_type": "execute_result"
    }
   ],
   "source": [
    "eval_df"
   ]
  },
  {
   "cell_type": "markdown",
   "id": "f40d0417-642c-4206-881b-8e9c91251d55",
   "metadata": {},
   "source": [
    "## Generalized Linear Model (GLM)"
   ]
  },
  {
   "cell_type": "code",
   "execution_count": 64,
   "id": "0a3529e6-079b-4fad-a3e7-aadede9a2ebe",
   "metadata": {
    "tags": []
   },
   "outputs": [],
   "source": [
    "# imports:\n",
    "from sklearn.linear_model import TweedieRegressor"
   ]
  },
  {
   "cell_type": "code",
   "execution_count": 65,
   "id": "6ec07f22-5aa2-4734-a816-bdfe42aa2ffe",
   "metadata": {
    "tags": []
   },
   "outputs": [
    {
     "data": {
      "text/html": [
       "<style>#sk-container-id-4 {color: black;}#sk-container-id-4 pre{padding: 0;}#sk-container-id-4 div.sk-toggleable {background-color: white;}#sk-container-id-4 label.sk-toggleable__label {cursor: pointer;display: block;width: 100%;margin-bottom: 0;padding: 0.3em;box-sizing: border-box;text-align: center;}#sk-container-id-4 label.sk-toggleable__label-arrow:before {content: \"▸\";float: left;margin-right: 0.25em;color: #696969;}#sk-container-id-4 label.sk-toggleable__label-arrow:hover:before {color: black;}#sk-container-id-4 div.sk-estimator:hover label.sk-toggleable__label-arrow:before {color: black;}#sk-container-id-4 div.sk-toggleable__content {max-height: 0;max-width: 0;overflow: hidden;text-align: left;background-color: #f0f8ff;}#sk-container-id-4 div.sk-toggleable__content pre {margin: 0.2em;color: black;border-radius: 0.25em;background-color: #f0f8ff;}#sk-container-id-4 input.sk-toggleable__control:checked~div.sk-toggleable__content {max-height: 200px;max-width: 100%;overflow: auto;}#sk-container-id-4 input.sk-toggleable__control:checked~label.sk-toggleable__label-arrow:before {content: \"▾\";}#sk-container-id-4 div.sk-estimator input.sk-toggleable__control:checked~label.sk-toggleable__label {background-color: #d4ebff;}#sk-container-id-4 div.sk-label input.sk-toggleable__control:checked~label.sk-toggleable__label {background-color: #d4ebff;}#sk-container-id-4 input.sk-hidden--visually {border: 0;clip: rect(1px 1px 1px 1px);clip: rect(1px, 1px, 1px, 1px);height: 1px;margin: -1px;overflow: hidden;padding: 0;position: absolute;width: 1px;}#sk-container-id-4 div.sk-estimator {font-family: monospace;background-color: #f0f8ff;border: 1px dotted black;border-radius: 0.25em;box-sizing: border-box;margin-bottom: 0.5em;}#sk-container-id-4 div.sk-estimator:hover {background-color: #d4ebff;}#sk-container-id-4 div.sk-parallel-item::after {content: \"\";width: 100%;border-bottom: 1px solid gray;flex-grow: 1;}#sk-container-id-4 div.sk-label:hover label.sk-toggleable__label {background-color: #d4ebff;}#sk-container-id-4 div.sk-serial::before {content: \"\";position: absolute;border-left: 1px solid gray;box-sizing: border-box;top: 0;bottom: 0;left: 50%;z-index: 0;}#sk-container-id-4 div.sk-serial {display: flex;flex-direction: column;align-items: center;background-color: white;padding-right: 0.2em;padding-left: 0.2em;position: relative;}#sk-container-id-4 div.sk-item {position: relative;z-index: 1;}#sk-container-id-4 div.sk-parallel {display: flex;align-items: stretch;justify-content: center;background-color: white;position: relative;}#sk-container-id-4 div.sk-item::before, #sk-container-id-4 div.sk-parallel-item::before {content: \"\";position: absolute;border-left: 1px solid gray;box-sizing: border-box;top: 0;bottom: 0;left: 50%;z-index: -1;}#sk-container-id-4 div.sk-parallel-item {display: flex;flex-direction: column;z-index: 1;position: relative;background-color: white;}#sk-container-id-4 div.sk-parallel-item:first-child::after {align-self: flex-end;width: 50%;}#sk-container-id-4 div.sk-parallel-item:last-child::after {align-self: flex-start;width: 50%;}#sk-container-id-4 div.sk-parallel-item:only-child::after {width: 0;}#sk-container-id-4 div.sk-dashed-wrapped {border: 1px dashed gray;margin: 0 0.4em 0.5em 0.4em;box-sizing: border-box;padding-bottom: 0.4em;background-color: white;}#sk-container-id-4 div.sk-label label {font-family: monospace;font-weight: bold;display: inline-block;line-height: 1.2em;}#sk-container-id-4 div.sk-label-container {text-align: center;}#sk-container-id-4 div.sk-container {/* jupyter's `normalize.less` sets `[hidden] { display: none; }` but bootstrap.min.css set `[hidden] { display: none !important; }` so we also need the `!important` here to be able to override the default hidden behavior on the sphinx rendered scikit-learn.org. See: https://github.com/scikit-learn/scikit-learn/issues/21755 */display: inline-block !important;position: relative;}#sk-container-id-4 div.sk-text-repr-fallback {display: none;}</style><div id=\"sk-container-id-4\" class=\"sk-top-container\"><div class=\"sk-text-repr-fallback\"><pre>TweedieRegressor(power=2)</pre><b>In a Jupyter environment, please rerun this cell to show the HTML representation or trust the notebook. <br />On GitHub, the HTML representation is unable to render, please try loading this page with nbviewer.org.</b></div><div class=\"sk-container\" hidden><div class=\"sk-item\"><div class=\"sk-estimator sk-toggleable\"><input class=\"sk-toggleable__control sk-hidden--visually\" id=\"sk-estimator-id-4\" type=\"checkbox\" checked><label for=\"sk-estimator-id-4\" class=\"sk-toggleable__label sk-toggleable__label-arrow\">TweedieRegressor</label><div class=\"sk-toggleable__content\"><pre>TweedieRegressor(power=2)</pre></div></div></div></div></div>"
      ],
      "text/plain": [
       "TweedieRegressor(power=2)"
      ]
     },
     "execution_count": 65,
     "metadata": {},
     "output_type": "execute_result"
    }
   ],
   "source": [
    "# same process as before!\n",
    "# make the dang thing!\n",
    "gams = TweedieRegressor(power=2)\n",
    "# fit the dang ol thing\n",
    "gams.fit(X_train, y_train)\n",
    "# use it!"
   ]
  },
  {
   "cell_type": "code",
   "execution_count": 66,
   "id": "d77cf4d7-6a3c-48b9-9605-bfdcee345b7b",
   "metadata": {
    "tags": []
   },
   "outputs": [],
   "source": [
    "rmse, r_2 = evaluate_reg(y_train, gams.predict(X_train))\n",
    "eval_df = pd.concat([eval_df, pd.DataFrame(\n",
    "[\n",
    "    {\n",
    "        'model': 'gamma_ols',\n",
    "        'rmse': rmse,\n",
    "        'r2': r_2\n",
    "    }\n",
    "])], ignore_index=True, axis=0)"
   ]
  },
  {
   "cell_type": "code",
   "execution_count": 67,
   "id": "dd934ec3-1be7-45a5-9d09-094cecc79db0",
   "metadata": {
    "tags": []
   },
   "outputs": [],
   "source": [
    "val_rmse, val_r2 = evaluate_reg(y_validate, gams.predict(X_validate))\n",
    "val_dict = {\n",
    "    'model': 'gamma_ols',\n",
    "    'val_rmse': val_rmse,\n",
    "    'val_r2': val_r2\n",
    "}"
   ]
  },
  {
   "cell_type": "code",
   "execution_count": 68,
   "id": "1f9f3a7a-2241-438e-9369-e6ab87c3f20c",
   "metadata": {
    "tags": []
   },
   "outputs": [],
   "source": [
    "val_scores.append(val_dict)"
   ]
  },
  {
   "cell_type": "code",
   "execution_count": 69,
   "id": "9726cbed-a34b-44e0-bdab-87f8d8c52fbc",
   "metadata": {
    "tags": []
   },
   "outputs": [
    {
     "data": {
      "text/html": [
       "<div>\n",
       "<style scoped>\n",
       "    .dataframe tbody tr th:only-of-type {\n",
       "        vertical-align: middle;\n",
       "    }\n",
       "\n",
       "    .dataframe tbody tr th {\n",
       "        vertical-align: top;\n",
       "    }\n",
       "\n",
       "    .dataframe thead th {\n",
       "        text-align: right;\n",
       "    }\n",
       "</style>\n",
       "<table border=\"1\" class=\"dataframe\">\n",
       "  <thead>\n",
       "    <tr style=\"text-align: right;\">\n",
       "      <th></th>\n",
       "      <th>model</th>\n",
       "      <th>rmse</th>\n",
       "      <th>r2</th>\n",
       "    </tr>\n",
       "  </thead>\n",
       "  <tbody>\n",
       "    <tr>\n",
       "      <th>0</th>\n",
       "      <td>baseline</td>\n",
       "      <td>270341.194955</td>\n",
       "      <td>0.000000</td>\n",
       "    </tr>\n",
       "    <tr>\n",
       "      <th>1</th>\n",
       "      <td>ols_rfe_1</td>\n",
       "      <td>259363.113640</td>\n",
       "      <td>0.079567</td>\n",
       "    </tr>\n",
       "    <tr>\n",
       "      <th>2</th>\n",
       "      <td>ols_rfe_2</td>\n",
       "      <td>259363.749996</td>\n",
       "      <td>0.079563</td>\n",
       "    </tr>\n",
       "    <tr>\n",
       "      <th>3</th>\n",
       "      <td>ols_rfe_3</td>\n",
       "      <td>238825.445478</td>\n",
       "      <td>0.219565</td>\n",
       "    </tr>\n",
       "    <tr>\n",
       "      <th>4</th>\n",
       "      <td>ols_all_feats</td>\n",
       "      <td>223119.210120</td>\n",
       "      <td>0.318839</td>\n",
       "    </tr>\n",
       "    <tr>\n",
       "      <th>5</th>\n",
       "      <td>lasso</td>\n",
       "      <td>223115.875638</td>\n",
       "      <td>0.318860</td>\n",
       "    </tr>\n",
       "    <tr>\n",
       "      <th>6</th>\n",
       "      <td>quad_reg</td>\n",
       "      <td>221925.412281</td>\n",
       "      <td>0.326109</td>\n",
       "    </tr>\n",
       "    <tr>\n",
       "      <th>7</th>\n",
       "      <td>quad_reg_2</td>\n",
       "      <td>235071.298021</td>\n",
       "      <td>0.243908</td>\n",
       "    </tr>\n",
       "    <tr>\n",
       "      <th>8</th>\n",
       "      <td>gamma_ols</td>\n",
       "      <td>265134.783493</td>\n",
       "      <td>0.038146</td>\n",
       "    </tr>\n",
       "  </tbody>\n",
       "</table>\n",
       "</div>"
      ],
      "text/plain": [
       "           model           rmse        r2\n",
       "0       baseline  270341.194955  0.000000\n",
       "1      ols_rfe_1  259363.113640  0.079567\n",
       "2      ols_rfe_2  259363.749996  0.079563\n",
       "3      ols_rfe_3  238825.445478  0.219565\n",
       "4  ols_all_feats  223119.210120  0.318839\n",
       "5          lasso  223115.875638  0.318860\n",
       "6       quad_reg  221925.412281  0.326109\n",
       "7     quad_reg_2  235071.298021  0.243908\n",
       "8      gamma_ols  265134.783493  0.038146"
      ]
     },
     "execution_count": 69,
     "metadata": {},
     "output_type": "execute_result"
    }
   ],
   "source": [
    "eval_df"
   ]
  },
  {
   "cell_type": "markdown",
   "id": "06b0675d-e932-4464-8e14-0c089e2d2d04",
   "metadata": {},
   "source": [
    "## Best model:"
   ]
  },
  {
   "cell_type": "code",
   "execution_count": 70,
   "id": "68552a40-77c4-4278-9819-666e0754d174",
   "metadata": {
    "tags": []
   },
   "outputs": [],
   "source": [
    "val_scores = pd.DataFrame(val_scores)"
   ]
  },
  {
   "cell_type": "code",
   "execution_count": 71,
   "id": "401b3556-9b37-4fd0-94ed-414244996998",
   "metadata": {
    "tags": []
   },
   "outputs": [
    {
     "data": {
      "text/html": [
       "<div>\n",
       "<style scoped>\n",
       "    .dataframe tbody tr th:only-of-type {\n",
       "        vertical-align: middle;\n",
       "    }\n",
       "\n",
       "    .dataframe tbody tr th {\n",
       "        vertical-align: top;\n",
       "    }\n",
       "\n",
       "    .dataframe thead th {\n",
       "        text-align: right;\n",
       "    }\n",
       "</style>\n",
       "<table border=\"1\" class=\"dataframe\">\n",
       "  <thead>\n",
       "    <tr style=\"text-align: right;\">\n",
       "      <th></th>\n",
       "      <th>model</th>\n",
       "      <th>val_rmse</th>\n",
       "      <th>val_r2</th>\n",
       "    </tr>\n",
       "  </thead>\n",
       "  <tbody>\n",
       "    <tr>\n",
       "      <th>0</th>\n",
       "      <td>ols_rfe_1</td>\n",
       "      <td>260581.515648</td>\n",
       "      <td>0.076608</td>\n",
       "    </tr>\n",
       "    <tr>\n",
       "      <th>1</th>\n",
       "      <td>ols_rfe_2</td>\n",
       "      <td>260583.322494</td>\n",
       "      <td>0.076595</td>\n",
       "    </tr>\n",
       "    <tr>\n",
       "      <th>2</th>\n",
       "      <td>ols_rfe_3</td>\n",
       "      <td>238756.516387</td>\n",
       "      <td>0.224808</td>\n",
       "    </tr>\n",
       "    <tr>\n",
       "      <th>3</th>\n",
       "      <td>ols_all_feats</td>\n",
       "      <td>224369.717676</td>\n",
       "      <td>0.315415</td>\n",
       "    </tr>\n",
       "    <tr>\n",
       "      <th>4</th>\n",
       "      <td>lasso</td>\n",
       "      <td>224357.645162</td>\n",
       "      <td>0.315489</td>\n",
       "    </tr>\n",
       "    <tr>\n",
       "      <th>5</th>\n",
       "      <td>quad_reg</td>\n",
       "      <td>223249.517911</td>\n",
       "      <td>0.322234</td>\n",
       "    </tr>\n",
       "    <tr>\n",
       "      <th>6</th>\n",
       "      <td>quad_reg_2</td>\n",
       "      <td>234778.214067</td>\n",
       "      <td>0.250426</td>\n",
       "    </tr>\n",
       "    <tr>\n",
       "      <th>7</th>\n",
       "      <td>gamma_ols</td>\n",
       "      <td>266032.667456</td>\n",
       "      <td>0.037571</td>\n",
       "    </tr>\n",
       "  </tbody>\n",
       "</table>\n",
       "</div>"
      ],
      "text/plain": [
       "           model       val_rmse    val_r2\n",
       "0      ols_rfe_1  260581.515648  0.076608\n",
       "1      ols_rfe_2  260583.322494  0.076595\n",
       "2      ols_rfe_3  238756.516387  0.224808\n",
       "3  ols_all_feats  224369.717676  0.315415\n",
       "4          lasso  224357.645162  0.315489\n",
       "5       quad_reg  223249.517911  0.322234\n",
       "6     quad_reg_2  234778.214067  0.250426\n",
       "7      gamma_ols  266032.667456  0.037571"
      ]
     },
     "execution_count": 71,
     "metadata": {},
     "output_type": "execute_result"
    }
   ],
   "source": [
    "val_scores"
   ]
  },
  {
   "cell_type": "markdown",
   "id": "7f566b31-220b-4dce-aebd-1b598ccc1993",
   "metadata": {},
   "source": [
    "## Graphs:"
   ]
  },
  {
   "cell_type": "code",
   "execution_count": 72,
   "id": "257e1c8d-59fd-4c86-949d-aefea18eb254",
   "metadata": {
    "tags": []
   },
   "outputs": [],
   "source": [
    "# imports\n",
    "import matplotlib.pyplot as plt\n",
    "import seaborn as sns"
   ]
  },
  {
   "cell_type": "markdown",
   "id": "5b8617b2-ca77-4232-beb7-6b1c7e4cd998",
   "metadata": {},
   "source": [
    "Predictions by Linear Regression:"
   ]
  },
  {
   "cell_type": "code",
   "execution_count": 73,
   "id": "5eeb0551-d6a9-4362-af9e-61eaaf61bc7d",
   "metadata": {
    "tags": []
   },
   "outputs": [
    {
     "data": {
      "image/png": "[encoded data removed]",
      "text/plain": [
       "<Figure size 2000x1500 with 1 Axes>"
      ]
     },
     "metadata": {},
     "output_type": "display_data"
    }
   ],
   "source": [
    "plt.figure(figsize=(20,15))\n",
    "plt.hist(lr3.predict(X_train_rfe_3), alpha = 0.5, label = 'rfe4')\n",
    "plt.hist(y_train, alpha = 0.2)\n",
    "plt.legend()\n",
    "plt.title('Distribution of Predictef Values vs Real Target')\n",
    "plt.show()"
   ]
  },
  {
   "cell_type": "code",
   "execution_count": 74,
   "id": "578cded7-abcf-4eaa-aa12-6d5e1f81e90c",
   "metadata": {
    "tags": []
   },
   "outputs": [
    {
     "data": {
      "image/png": "[encoded data removed]",
      "text/plain": [
       "<Figure size 2000x1500 with 1 Axes>"
      ]
     },
     "metadata": {},
     "output_type": "display_data"
    }
   ],
   "source": [
    "plt.figure(figsize=(20,15))\n",
    "plt.hist(plyreg.predict(x_train_sq), alpha=0.5, label='quad')\n",
    "plt.hist(y_train, alpha=0.2)\n",
    "plt.legend()\n",
    "plt.title('Distributions of Predicted Values vs Real Target')\n",
    "plt.show()"
   ]
  },
  {
   "cell_type": "code",
   "execution_count": 75,
   "id": "5859d70b-ae60-4db3-a596-5d40424b4b4b",
   "metadata": {},
   "outputs": [
    {
     "data": {
      "image/png": "[encoded data removed]",
      "text/plain": [
       "<Figure size 2000x1500 with 1 Axes>"
      ]
     },
     "metadata": {},
     "output_type": "display_data"
    }
   ],
   "source": [
    "plt.figure(figsize=(20,15))\n",
    "plt.hist(lasso.predict(X_train), alpha=0.5, label='lasso')\n",
    "plt.hist(y_train, alpha=0.2)\n",
    "plt.legend()\n",
    "plt.title('Distributions of Predicted Values vs Real Target')\n",
    "plt.show()"
   ]
  },
  {
   "cell_type": "code",
   "execution_count": 77,
   "id": "2e4c088c-5def-4fb3-940a-0b0b1f26a064",
   "metadata": {
    "tags": []
   },
   "outputs": [
    {
     "data": {
      "image/png": "[encoded data removed]",
      "text/plain": [
       "<Figure size 2000x1500 with 2 Axes>"
      ]
     },
     "metadata": {},
     "output_type": "display_data"
    }
   ],
   "source": [
    "plt.figure(figsize=(20, 15))\n",
    "\n",
    "plt.subplot(1, 2, 1)\n",
    "plt.hist(plyreg.predict(x_val_sq), alpha=0.5, label='quad', color='blue')\n",
    "plt.hist(y_validate, alpha=0.2, color='orange')\n",
    "plt.legend()\n",
    "plt.title('Distribution of Predicted Values vs Real Target - Quad', fontsize=20)\n",
    "plt.xlabel('Predicted Values', fontsize=15)\n",
    "plt.ylabel('Frequency', fontsize=15)\n",
    "\n",
    "# Plotting the second histogram (lasso)\n",
    "plt.subplot(1, 2, 2)\n",
    "plt.hist(lasso.predict(X_validate), alpha=0.5, label='lasso', color='green')\n",
    "plt.hist(y_validate, alpha=0.2, color='orange')\n",
    "plt.legend()\n",
    "plt.title('Distribution of Predicted Values vs Real Target - Lasso', fontsize=20)\n",
    "plt.xlabel('Predicted Values', fontsize=15)\n",
    "plt.ylabel('Frequency', fontsize=15)\n",
    "\n",
    "# Show the plots\n",
    "plt.show()"
   ]
  },
  {
   "cell_type": "code",
   "execution_count": null,
   "id": "aa7c0661-3994-4a67-afe3-2e7365b7d3ca",
   "metadata": {},
   "outputs": [],
   "source": []
  }
 ],
 "metadata": {
  "kernelspec": {
   "display_name": "Python 3 (ipykernel)",
   "language": "python",
   "name": "python3"
  },
  "language_info": {
   "codemirror_mode": {
    "name": "ipython",
    "version": 3
   },
   "file_extension": ".py",
   "mimetype": "text/x-python",
   "name": "python",
   "nbconvert_exporter": "python",
   "pygments_lexer": "ipython3",
   "version": "3.11.4"
  },
  "toc-autonumbering": false
 },
 "nbformat": 4,
 "nbformat_minor": 5
}
