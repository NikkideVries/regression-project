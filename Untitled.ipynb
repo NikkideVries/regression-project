{
 "cells": [
  {
   "cell_type": "code",
   "execution_count": 1,
   "id": "e8fe9e90-d9a2-405f-9ed3-184832c70935",
   "metadata": {
    "tags": []
   },
   "outputs": [],
   "source": [
    "# imports \n",
    "import matplotlib.pyplot as plt\n",
    "\n",
    "\n",
    "\n",
    "\n",
    "\n",
    "\n",
    "\n",
    "#------------------------------Visual Functions-----------------------#\n",
    "import matplotlib.pyplot as plt\n",
    "\n",
    "def plot_side_by_side_histograms():\n",
    "    plt.figure(figsize=(20, 15))\n",
    "    \n",
    "    plt.subplot(1, 2, 1)\n",
    "    plt.hist(plyreg.predict(x_train_sq), alpha=0.5, label='quad', color='blue')\n",
    "    plt.hist(y_train, alpha=0.2, color='orange')\n",
    "    plt.legend()\n",
    "    plt.title('Distribution of Predicted Values vs Real Target - Quad', fontsize=20)\n",
    "    plt.xlabel('Predicted Values', fontsize=15)\n",
    "    plt.ylabel('Frequency', fontsize=15)\n",
    "    \n",
    "    # Plotting the second histogram (lasso)\n",
    "    plt.subplot(1, 2, 2)\n",
    "    plt.hist(lasso.predict(X_train), alpha=0.5, label='lasso', color='green')\n",
    "    plt.hist(y_train, alpha=0.2, color='orange')\n",
    "    plt.legend()\n",
    "    plt.title('Distribution of Predicted Values vs Real Target - Lasso', fontsize=20)\n",
    "    plt.xlabel('Predicted Values', fontsize=15)\n",
    "    plt.ylabel('Frequency', fontsize=15)\n",
    "    \n",
    "    # Show the plots\n",
    "    plt.show()\n",
    "        \n"
   ]
  }
 ],
 "metadata": {
  "kernelspec": {
   "display_name": "Python 3 (ipykernel)",
   "language": "python",
   "name": "python3"
  },
  "language_info": {
   "codemirror_mode": {
    "name": "ipython",
    "version": 3
   },
   "file_extension": ".py",
   "mimetype": "text/x-python",
   "name": "python",
   "nbconvert_exporter": "python",
   "pygments_lexer": "ipython3",
   "version": "3.11.4"
  }
 },
 "nbformat": 4,
 "nbformat_minor": 5
}
