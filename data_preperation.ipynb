{
 "cells": [
  {
   "cell_type": "markdown",
   "id": "7b42e644-4ed8-4433-8cd6-1a6c7b286fff",
   "metadata": {},
   "source": [
    "# Data Peperation: \n",
    "Step by step overview: \n",
    "1. Summarize our data:\n",
    "- head(), describe(), info(), isnull(), value_counts(), shape, ...\n",
    "- plt.hist(), plt.boxplot()\n",
    "- document takeaways (nulls, datatypes to change, outliers, ideas for features, etc.)\n",
    "\n",
    "2. Clean the data:\n",
    "- rename columns\n",
    "    - missing values: drop columns with too many missing values, drop rows with too many missing values, fill with zero where it makes sense, and then make note of any columns you want to impute missing values in (you will need to do that on split data).\n",
    "    - outlier: an observation point that is distant from other observations\n",
    "    https://www.theanalysisfactor.com/outliers-to-drop-or-not-to-drop/\n",
    "    - ignore, drop rows, snap to a selected max/min value, create bins (cut, qcut)\n",
    "    - data errors: drop the rows/observations with the errors, correct them to what it was intended\n",
    "    - address text normalization issues: correct and standardize tex (e.g. deck 'C' 'c')\n",
    "    - creating new variables out of existing variables (e.g. z = x - y)\n",
    "\n",
    "3. Split the data:\n",
    "- split our data into train, validate and test sample dataframes\n",
    "    - train: in-sample, explore, impute mean, scale numeric data (max() - min()...), fit our ml algorithms, evaluate our models.\n",
    "    - validate: out-of-sample confirm our top models have not overfit, evaluate our top models on unseen data. Using validate performance results, we pick the top 1 model.\n",
    "    - test: out-of-sample, how we expect our top model to perform in production, on unseen data in the future. ONLY USED ON 1 MODEL."
   ]
  },
  {
   "cell_type": "markdown",
   "id": "5c2d502f-c994-4b6b-b591-6ab187e2de92",
   "metadata": {},
   "source": [
    "## Begin Cleaning"
   ]
  },
  {
   "cell_type": "code",
   "execution_count": 1,
   "id": "728a55e7-508d-4573-a654-caece2a1f4a1",
   "metadata": {
    "tags": []
   },
   "outputs": [],
   "source": [
    "# imports:\n",
    "import pandas as pd\n",
    "import numpy as np\n",
    "\n",
    "#personal\n",
    "import wrangle as wr"
   ]
  },
  {
   "cell_type": "code",
   "execution_count": 2,
   "id": "4542fa84-8304-46c7-9cd9-df6abbbffa5d",
   "metadata": {
    "tags": []
   },
   "outputs": [
    {
     "data": {
      "text/html": [
       "<div>\n",
       "<style scoped>\n",
       "    .dataframe tbody tr th:only-of-type {\n",
       "        vertical-align: middle;\n",
       "    }\n",
       "\n",
       "    .dataframe tbody tr th {\n",
       "        vertical-align: top;\n",
       "    }\n",
       "\n",
       "    .dataframe thead th {\n",
       "        text-align: right;\n",
       "    }\n",
       "</style>\n",
       "<table border=\"1\" class=\"dataframe\">\n",
       "  <thead>\n",
       "    <tr style=\"text-align: right;\">\n",
       "      <th></th>\n",
       "      <th>transactiondate</th>\n",
       "      <th>bathroomcnt</th>\n",
       "      <th>bedroomcnt</th>\n",
       "      <th>calculatedfinishedsquarefeet</th>\n",
       "      <th>fips</th>\n",
       "      <th>taxvaluedollarcnt</th>\n",
       "      <th>propertylandusetypeid</th>\n",
       "      <th>propertylandusedesc</th>\n",
       "      <th>yearbuilt</th>\n",
       "    </tr>\n",
       "  </thead>\n",
       "  <tbody>\n",
       "    <tr>\n",
       "      <th>0</th>\n",
       "      <td>2017-01-13</td>\n",
       "      <td>2.0</td>\n",
       "      <td>3.0</td>\n",
       "      <td>1324.0</td>\n",
       "      <td>6037.0</td>\n",
       "      <td>518089.0</td>\n",
       "      <td>261.0</td>\n",
       "      <td>Single Family Residential</td>\n",
       "      <td>1963.0</td>\n",
       "    </tr>\n",
       "    <tr>\n",
       "      <th>1</th>\n",
       "      <td>2017-01-13</td>\n",
       "      <td>3.0</td>\n",
       "      <td>4.0</td>\n",
       "      <td>3551.0</td>\n",
       "      <td>6037.0</td>\n",
       "      <td>1609238.0</td>\n",
       "      <td>261.0</td>\n",
       "      <td>Single Family Residential</td>\n",
       "      <td>1994.0</td>\n",
       "    </tr>\n",
       "    <tr>\n",
       "      <th>2</th>\n",
       "      <td>2017-01-13</td>\n",
       "      <td>3.0</td>\n",
       "      <td>4.0</td>\n",
       "      <td>2519.0</td>\n",
       "      <td>6037.0</td>\n",
       "      <td>106406.0</td>\n",
       "      <td>261.0</td>\n",
       "      <td>Single Family Residential</td>\n",
       "      <td>1965.0</td>\n",
       "    </tr>\n",
       "    <tr>\n",
       "      <th>3</th>\n",
       "      <td>2017-01-13</td>\n",
       "      <td>2.0</td>\n",
       "      <td>3.0</td>\n",
       "      <td>1285.0</td>\n",
       "      <td>6037.0</td>\n",
       "      <td>369853.0</td>\n",
       "      <td>261.0</td>\n",
       "      <td>Single Family Residential</td>\n",
       "      <td>1955.0</td>\n",
       "    </tr>\n",
       "    <tr>\n",
       "      <th>4</th>\n",
       "      <td>2017-01-13</td>\n",
       "      <td>1.0</td>\n",
       "      <td>3.0</td>\n",
       "      <td>1254.0</td>\n",
       "      <td>6037.0</td>\n",
       "      <td>65848.0</td>\n",
       "      <td>261.0</td>\n",
       "      <td>Single Family Residential</td>\n",
       "      <td>1954.0</td>\n",
       "    </tr>\n",
       "  </tbody>\n",
       "</table>\n",
       "</div>"
      ],
      "text/plain": [
       "  transactiondate  bathroomcnt  bedroomcnt  calculatedfinishedsquarefeet  \\\n",
       "0      2017-01-13          2.0         3.0                        1324.0   \n",
       "1      2017-01-13          3.0         4.0                        3551.0   \n",
       "2      2017-01-13          3.0         4.0                        2519.0   \n",
       "3      2017-01-13          2.0         3.0                        1285.0   \n",
       "4      2017-01-13          1.0         3.0                        1254.0   \n",
       "\n",
       "     fips  taxvaluedollarcnt  propertylandusetypeid  \\\n",
       "0  6037.0           518089.0                  261.0   \n",
       "1  6037.0          1609238.0                  261.0   \n",
       "2  6037.0           106406.0                  261.0   \n",
       "3  6037.0           369853.0                  261.0   \n",
       "4  6037.0            65848.0                  261.0   \n",
       "\n",
       "         propertylandusedesc  yearbuilt  \n",
       "0  Single Family Residential     1963.0  \n",
       "1  Single Family Residential     1994.0  \n",
       "2  Single Family Residential     1965.0  \n",
       "3  Single Family Residential     1955.0  \n",
       "4  Single Family Residential     1954.0  "
      ]
     },
     "execution_count": 2,
     "metadata": {},
     "output_type": "execute_result"
    }
   ],
   "source": [
    "# aquire the data:\n",
    "df = wr.get_zillow_data()\n",
    "df.head()"
   ]
  },
  {
   "cell_type": "code",
   "execution_count": 3,
   "id": "7c4508df-313b-42d0-b002-8dc551c68da1",
   "metadata": {
    "tags": []
   },
   "outputs": [
    {
     "data": {
      "text/html": [
       "<div>\n",
       "<style scoped>\n",
       "    .dataframe tbody tr th:only-of-type {\n",
       "        vertical-align: middle;\n",
       "    }\n",
       "\n",
       "    .dataframe tbody tr th {\n",
       "        vertical-align: top;\n",
       "    }\n",
       "\n",
       "    .dataframe thead th {\n",
       "        text-align: right;\n",
       "    }\n",
       "</style>\n",
       "<table border=\"1\" class=\"dataframe\">\n",
       "  <thead>\n",
       "    <tr style=\"text-align: right;\">\n",
       "      <th></th>\n",
       "      <th>bathroomcnt</th>\n",
       "      <th>bedroomcnt</th>\n",
       "      <th>calculatedfinishedsquarefeet</th>\n",
       "      <th>fips</th>\n",
       "      <th>taxvaluedollarcnt</th>\n",
       "      <th>propertylandusetypeid</th>\n",
       "      <th>yearbuilt</th>\n",
       "    </tr>\n",
       "  </thead>\n",
       "  <tbody>\n",
       "    <tr>\n",
       "      <th>count</th>\n",
       "      <td>52441.000000</td>\n",
       "      <td>52441.000000</td>\n",
       "      <td>52359.000000</td>\n",
       "      <td>52441.000000</td>\n",
       "      <td>5.244000e+04</td>\n",
       "      <td>52441.0</td>\n",
       "      <td>52325.000000</td>\n",
       "    </tr>\n",
       "    <tr>\n",
       "      <th>mean</th>\n",
       "      <td>2.299403</td>\n",
       "      <td>3.300681</td>\n",
       "      <td>1922.890754</td>\n",
       "      <td>6049.132149</td>\n",
       "      <td>5.296882e+05</td>\n",
       "      <td>261.0</td>\n",
       "      <td>1963.393884</td>\n",
       "    </tr>\n",
       "    <tr>\n",
       "      <th>std</th>\n",
       "      <td>1.022772</td>\n",
       "      <td>0.949094</td>\n",
       "      <td>1004.365838</td>\n",
       "      <td>21.029067</td>\n",
       "      <td>7.518946e+05</td>\n",
       "      <td>0.0</td>\n",
       "      <td>23.133571</td>\n",
       "    </tr>\n",
       "    <tr>\n",
       "      <th>min</th>\n",
       "      <td>0.000000</td>\n",
       "      <td>0.000000</td>\n",
       "      <td>128.000000</td>\n",
       "      <td>6037.000000</td>\n",
       "      <td>1.000000e+03</td>\n",
       "      <td>261.0</td>\n",
       "      <td>1878.000000</td>\n",
       "    </tr>\n",
       "    <tr>\n",
       "      <th>25%</th>\n",
       "      <td>2.000000</td>\n",
       "      <td>3.000000</td>\n",
       "      <td>1268.000000</td>\n",
       "      <td>6037.000000</td>\n",
       "      <td>1.937475e+05</td>\n",
       "      <td>261.0</td>\n",
       "      <td>1950.000000</td>\n",
       "    </tr>\n",
       "    <tr>\n",
       "      <th>50%</th>\n",
       "      <td>2.000000</td>\n",
       "      <td>3.000000</td>\n",
       "      <td>1659.000000</td>\n",
       "      <td>6037.000000</td>\n",
       "      <td>3.736120e+05</td>\n",
       "      <td>261.0</td>\n",
       "      <td>1961.000000</td>\n",
       "    </tr>\n",
       "    <tr>\n",
       "      <th>75%</th>\n",
       "      <td>3.000000</td>\n",
       "      <td>4.000000</td>\n",
       "      <td>2306.000000</td>\n",
       "      <td>6059.000000</td>\n",
       "      <td>6.193012e+05</td>\n",
       "      <td>261.0</td>\n",
       "      <td>1979.000000</td>\n",
       "    </tr>\n",
       "    <tr>\n",
       "      <th>max</th>\n",
       "      <td>18.000000</td>\n",
       "      <td>14.000000</td>\n",
       "      <td>21929.000000</td>\n",
       "      <td>6111.000000</td>\n",
       "      <td>4.906124e+07</td>\n",
       "      <td>261.0</td>\n",
       "      <td>2016.000000</td>\n",
       "    </tr>\n",
       "  </tbody>\n",
       "</table>\n",
       "</div>"
      ],
      "text/plain": [
       "        bathroomcnt    bedroomcnt  calculatedfinishedsquarefeet          fips  \\\n",
       "count  52441.000000  52441.000000                  52359.000000  52441.000000   \n",
       "mean       2.299403      3.300681                   1922.890754   6049.132149   \n",
       "std        1.022772      0.949094                   1004.365838     21.029067   \n",
       "min        0.000000      0.000000                    128.000000   6037.000000   \n",
       "25%        2.000000      3.000000                   1268.000000   6037.000000   \n",
       "50%        2.000000      3.000000                   1659.000000   6037.000000   \n",
       "75%        3.000000      4.000000                   2306.000000   6059.000000   \n",
       "max       18.000000     14.000000                  21929.000000   6111.000000   \n",
       "\n",
       "       taxvaluedollarcnt  propertylandusetypeid     yearbuilt  \n",
       "count       5.244000e+04                52441.0  52325.000000  \n",
       "mean        5.296882e+05                  261.0   1963.393884  \n",
       "std         7.518946e+05                    0.0     23.133571  \n",
       "min         1.000000e+03                  261.0   1878.000000  \n",
       "25%         1.937475e+05                  261.0   1950.000000  \n",
       "50%         3.736120e+05                  261.0   1961.000000  \n",
       "75%         6.193012e+05                  261.0   1979.000000  \n",
       "max         4.906124e+07                  261.0   2016.000000  "
      ]
     },
     "execution_count": 3,
     "metadata": {},
     "output_type": "execute_result"
    }
   ],
   "source": [
    "# describe the data:\n",
    "df.describe()"
   ]
  },
  {
   "cell_type": "code",
   "execution_count": 4,
   "id": "26874f6a-1fc6-4634-b361-176e3e97093c",
   "metadata": {
    "tags": []
   },
   "outputs": [
    {
     "name": "stdout",
     "output_type": "stream",
     "text": [
      "<class 'pandas.core.frame.DataFrame'>\n",
      "Int64Index: 52441 entries, 0 to 52440\n",
      "Data columns (total 9 columns):\n",
      " #   Column                        Non-Null Count  Dtype  \n",
      "---  ------                        --------------  -----  \n",
      " 0   transactiondate               52441 non-null  object \n",
      " 1   bathroomcnt                   52441 non-null  float64\n",
      " 2   bedroomcnt                    52441 non-null  float64\n",
      " 3   calculatedfinishedsquarefeet  52359 non-null  float64\n",
      " 4   fips                          52441 non-null  float64\n",
      " 5   taxvaluedollarcnt             52440 non-null  float64\n",
      " 6   propertylandusetypeid         52441 non-null  float64\n",
      " 7   propertylandusedesc           52441 non-null  object \n",
      " 8   yearbuilt                     52325 non-null  float64\n",
      "dtypes: float64(7), object(2)\n",
      "memory usage: 4.0+ MB\n"
     ]
    }
   ],
   "source": [
    "# look at the info\n",
    "df.info()"
   ]
  },
  {
   "cell_type": "markdown",
   "id": "04718090-d19a-4aec-b089-ba82e236031e",
   "metadata": {},
   "source": [
    ">We will want to drop transactiondate, it was just a place holder to make sure all our transactions were in 2017. We can also drop popertylandusetypeid and propetylandusedesc as these were also confirmation place holders for single family properties.\n",
    "\n",
    "- Domian knoweldge = fips are the counties, need to look up with number corelates with each county. Use this column to make a table to answer the question regarding missing location, state, and county information requested by zillow. \n"
   ]
  },
  {
   "cell_type": "code",
   "execution_count": 5,
   "id": "e94b0920-904b-41eb-a325-b43ba4238c65",
   "metadata": {
    "tags": []
   },
   "outputs": [
    {
     "data": {
      "text/plain": [
       "transactiondate                   0\n",
       "bathroomcnt                       0\n",
       "bedroomcnt                        0\n",
       "calculatedfinishedsquarefeet     82\n",
       "fips                              0\n",
       "taxvaluedollarcnt                 1\n",
       "propertylandusetypeid             0\n",
       "propertylandusedesc               0\n",
       "yearbuilt                       116\n",
       "dtype: int64"
      ]
     },
     "execution_count": 5,
     "metadata": {},
     "output_type": "execute_result"
    }
   ],
   "source": [
    "# look at how many nulls there are: \n",
    "df.isna().sum()"
   ]
  },
  {
   "cell_type": "code",
   "execution_count": 6,
   "id": "c2a19684-d288-4848-b756-eeed86e962a1",
   "metadata": {
    "tags": []
   },
   "outputs": [
    {
     "data": {
      "text/plain": [
       "transactiondate                 0.000000\n",
       "bathroomcnt                     0.000000\n",
       "bedroomcnt                      0.000000\n",
       "calculatedfinishedsquarefeet    0.156366\n",
       "fips                            0.000000\n",
       "taxvaluedollarcnt               0.001907\n",
       "propertylandusetypeid           0.000000\n",
       "propertylandusedesc             0.000000\n",
       "yearbuilt                       0.221201\n",
       "dtype: float64"
      ]
     },
     "execution_count": 6,
     "metadata": {},
     "output_type": "execute_result"
    }
   ],
   "source": [
    "# what percentage of the data base is missing?\n",
    "df.isna().sum()/ df.shape[0] * 100"
   ]
  },
  {
   "cell_type": "markdown",
   "id": "53ad7b3d-7449-4497-a72c-8711fa617e97",
   "metadata": {},
   "source": [
    ">The nulls that are missing only make up 0.1 % and 0.02 % percent of the data base, so it would be safe to drop these values since we are only losing about half a percent of the data"
   ]
  },
  {
   "cell_type": "markdown",
   "id": "d7341cd4-9190-43d6-8a63-41fbcda95d80",
   "metadata": {},
   "source": [
    "## Zillow request for location before removing column"
   ]
  },
  {
   "cell_type": "code",
   "execution_count": 7,
   "id": "01543e27-ce23-4ef6-a338-9ada46c9fef2",
   "metadata": {
    "tags": []
   },
   "outputs": [
    {
     "data": {
      "text/plain": [
       "fips  \n",
       "6037.0    33910\n",
       "6059.0    14136\n",
       "6111.0     4395\n",
       "dtype: int64"
      ]
     },
     "execution_count": 7,
     "metadata": {},
     "output_type": "execute_result"
    }
   ],
   "source": [
    "# figure out the fips first and make a table for zillow\n",
    "location = pd.DataFrame(df['fips'])\n",
    "location.value_counts()"
   ]
  },
  {
   "cell_type": "markdown",
   "id": "d82471bb-cc99-44e9-b915-c55b729799db",
   "metadata": {},
   "source": [
    "There are thee codes: 6037,6059,6111.\n",
    "- 6037 = Los Angeles County, California\n",
    "- 6059 = Orange County, California\n",
    "- 6111 = Ventura County, California"
   ]
  },
  {
   "cell_type": "code",
   "execution_count": 8,
   "id": "032902b7-b5a4-461e-bb88-0fb94f78b926",
   "metadata": {
    "tags": []
   },
   "outputs": [],
   "source": [
    "# i want to reasign these values and then make a graph: \n",
    "county_maps = {6037: 'Los Angeles',\n",
    "6059: 'Orange',\n",
    "6111: 'Ventura'\n",
    "}"
   ]
  },
  {
   "cell_type": "code",
   "execution_count": 9,
   "id": "981b8ba1-cdcd-4883-8490-e1c438d16e86",
   "metadata": {
    "tags": []
   },
   "outputs": [
    {
     "data": {
      "text/plain": [
       "fips    county     \n",
       "6037.0  Los Angeles    33910\n",
       "6059.0  Orange         14136\n",
       "6111.0  Ventura         4395\n",
       "dtype: int64"
      ]
     },
     "execution_count": 9,
     "metadata": {},
     "output_type": "execute_result"
    }
   ],
   "source": [
    "location['county'] = location.fips.map(county_maps)\n",
    "location.value_counts()"
   ]
  },
  {
   "cell_type": "code",
   "execution_count": 10,
   "id": "397c746d-71f3-46e2-91a2-c955c8b9f3c7",
   "metadata": {
    "tags": []
   },
   "outputs": [],
   "source": [
    "# import visualization tools:\n",
    "import matplotlib.pyplot as plt\n",
    "import seaborn as sns"
   ]
  },
  {
   "cell_type": "code",
   "execution_count": 11,
   "id": "199e73b4-1de0-46df-9c10-9f411e0918f2",
   "metadata": {
    "tags": []
   },
   "outputs": [
    {
     "data": {
      "image/png": "[encoded data removed]",
      "text/plain": [
       "<Figure size 800x600 with 1 Axes>"
      ]
     },
     "metadata": {},
     "output_type": "display_data"
    }
   ],
   "source": [
    "\n",
    "sns.set(style=\"whitegrid\")\n",
    "plt.figure(figsize=(8,6))\n",
    "\n",
    "sns.countplot(x = 'county', data = location)\n",
    "plt.xlabel('County')\n",
    "plt.ylabel('Count')\n",
    "plt.title('LA has the largest amount of houses sold in 2017')\n",
    "plt.show()"
   ]
  },
  {
   "cell_type": "code",
   "execution_count": 12,
   "id": "04a4cda7-b0db-499d-8be6-bbb9c93744b3",
   "metadata": {
    "tags": []
   },
   "outputs": [
    {
     "data": {
      "image/png": "[encoded data removed]",
      "text/plain": [
       "<Figure size 800x600 with 1 Axes>"
      ]
     },
     "metadata": {},
     "output_type": "display_data"
    }
   ],
   "source": [
    "import pandas as pd\n",
    "import seaborn as sns\n",
    "import matplotlib.pyplot as plt\n",
    "\n",
    "# Create a DataFrame with the provided data\n",
    "data = pd.DataFrame({\n",
    "    'fips': [6037.0, 6059.0, 6111.0],\n",
    "    'county': ['Los Angeles', 'Orange', 'Ventura'],\n",
    "    'count': [37288, 13972, 4820]\n",
    "})\n",
    "\n",
    "sns.set(style=\"whitegrid\")\n",
    "plt.figure(figsize=(8, 6))\n",
    "\n",
    "# Create a custom color palette\n",
    "colors = ['grey' if county != 'Los Angeles' else 'purple' for county in data['county']]\n",
    "\n",
    "sns.barplot(x='county', y='count', data=data, palette=colors)\n",
    "plt.xlabel('County')\n",
    "plt.ylabel('Count')\n",
    "plt.title('Number of Houses Sold in 2017')\n",
    "plt.show()\n"
   ]
  },
  {
   "cell_type": "markdown",
   "id": "35938c09-9cf6-4d37-81fe-57d3cb073a6f",
   "metadata": {},
   "source": [
    "## Return to cleaning the dataset"
   ]
  },
  {
   "cell_type": "code",
   "execution_count": 13,
   "id": "d8b7afd0-71da-4667-a5dc-309cfa6e7812",
   "metadata": {
    "tags": []
   },
   "outputs": [],
   "source": [
    "# drop the columns that we don't need: \n",
    "drop_cols = ['transactiondate','propertylandusetypeid','propertylandusedesc','fips']\n",
    "\n",
    "df = df.drop(columns = drop_cols)"
   ]
  },
  {
   "cell_type": "code",
   "execution_count": 14,
   "id": "9153506b-8c05-44e5-9e90-69d19c87f1e1",
   "metadata": {
    "tags": []
   },
   "outputs": [
    {
     "data": {
      "text/html": [
       "<div>\n",
       "<style scoped>\n",
       "    .dataframe tbody tr th:only-of-type {\n",
       "        vertical-align: middle;\n",
       "    }\n",
       "\n",
       "    .dataframe tbody tr th {\n",
       "        vertical-align: top;\n",
       "    }\n",
       "\n",
       "    .dataframe thead th {\n",
       "        text-align: right;\n",
       "    }\n",
       "</style>\n",
       "<table border=\"1\" class=\"dataframe\">\n",
       "  <thead>\n",
       "    <tr style=\"text-align: right;\">\n",
       "      <th></th>\n",
       "      <th>bathroomcnt</th>\n",
       "      <th>bedroomcnt</th>\n",
       "      <th>calculatedfinishedsquarefeet</th>\n",
       "      <th>taxvaluedollarcnt</th>\n",
       "      <th>yearbuilt</th>\n",
       "    </tr>\n",
       "  </thead>\n",
       "  <tbody>\n",
       "    <tr>\n",
       "      <th>0</th>\n",
       "      <td>2.0</td>\n",
       "      <td>3.0</td>\n",
       "      <td>1324.0</td>\n",
       "      <td>518089.0</td>\n",
       "      <td>1963.0</td>\n",
       "    </tr>\n",
       "    <tr>\n",
       "      <th>1</th>\n",
       "      <td>3.0</td>\n",
       "      <td>4.0</td>\n",
       "      <td>3551.0</td>\n",
       "      <td>1609238.0</td>\n",
       "      <td>1994.0</td>\n",
       "    </tr>\n",
       "    <tr>\n",
       "      <th>2</th>\n",
       "      <td>3.0</td>\n",
       "      <td>4.0</td>\n",
       "      <td>2519.0</td>\n",
       "      <td>106406.0</td>\n",
       "      <td>1965.0</td>\n",
       "    </tr>\n",
       "    <tr>\n",
       "      <th>3</th>\n",
       "      <td>2.0</td>\n",
       "      <td>3.0</td>\n",
       "      <td>1285.0</td>\n",
       "      <td>369853.0</td>\n",
       "      <td>1955.0</td>\n",
       "    </tr>\n",
       "    <tr>\n",
       "      <th>4</th>\n",
       "      <td>1.0</td>\n",
       "      <td>3.0</td>\n",
       "      <td>1254.0</td>\n",
       "      <td>65848.0</td>\n",
       "      <td>1954.0</td>\n",
       "    </tr>\n",
       "  </tbody>\n",
       "</table>\n",
       "</div>"
      ],
      "text/plain": [
       "   bathroomcnt  bedroomcnt  calculatedfinishedsquarefeet  taxvaluedollarcnt  \\\n",
       "0          2.0         3.0                        1324.0           518089.0   \n",
       "1          3.0         4.0                        3551.0          1609238.0   \n",
       "2          3.0         4.0                        2519.0           106406.0   \n",
       "3          2.0         3.0                        1285.0           369853.0   \n",
       "4          1.0         3.0                        1254.0            65848.0   \n",
       "\n",
       "   yearbuilt  \n",
       "0     1963.0  \n",
       "1     1994.0  \n",
       "2     1965.0  \n",
       "3     1955.0  \n",
       "4     1954.0  "
      ]
     },
     "execution_count": 14,
     "metadata": {},
     "output_type": "execute_result"
    }
   ],
   "source": [
    "df.head()"
   ]
  },
  {
   "cell_type": "code",
   "execution_count": 15,
   "id": "59b6a9ef-e159-48d7-add3-91f31029d25a",
   "metadata": {
    "tags": []
   },
   "outputs": [],
   "source": [
    "df = df.dropna()"
   ]
  },
  {
   "cell_type": "code",
   "execution_count": 16,
   "id": "fc948306-6645-439a-befc-1cbbee5cae33",
   "metadata": {
    "tags": []
   },
   "outputs": [
    {
     "name": "stdout",
     "output_type": "stream",
     "text": [
      "<class 'pandas.core.frame.DataFrame'>\n",
      "Int64Index: 52319 entries, 0 to 52440\n",
      "Data columns (total 5 columns):\n",
      " #   Column                        Non-Null Count  Dtype  \n",
      "---  ------                        --------------  -----  \n",
      " 0   bathroomcnt                   52319 non-null  float64\n",
      " 1   bedroomcnt                    52319 non-null  float64\n",
      " 2   calculatedfinishedsquarefeet  52319 non-null  float64\n",
      " 3   taxvaluedollarcnt             52319 non-null  float64\n",
      " 4   yearbuilt                     52319 non-null  float64\n",
      "dtypes: float64(5)\n",
      "memory usage: 2.4 MB\n"
     ]
    }
   ],
   "source": [
    "df.info()"
   ]
  },
  {
   "cell_type": "code",
   "execution_count": 17,
   "id": "447ec387-4b35-4de5-a2c8-af6bcc3f348b",
   "metadata": {
    "tags": []
   },
   "outputs": [
    {
     "data": {
      "text/html": [
       "<div>\n",
       "<style scoped>\n",
       "    .dataframe tbody tr th:only-of-type {\n",
       "        vertical-align: middle;\n",
       "    }\n",
       "\n",
       "    .dataframe tbody tr th {\n",
       "        vertical-align: top;\n",
       "    }\n",
       "\n",
       "    .dataframe thead th {\n",
       "        text-align: right;\n",
       "    }\n",
       "</style>\n",
       "<table border=\"1\" class=\"dataframe\">\n",
       "  <thead>\n",
       "    <tr style=\"text-align: right;\">\n",
       "      <th></th>\n",
       "      <th>bathrooms</th>\n",
       "      <th>bedrooms</th>\n",
       "      <th>sqft</th>\n",
       "      <th>tax_value</th>\n",
       "      <th>yearbuilt</th>\n",
       "    </tr>\n",
       "  </thead>\n",
       "  <tbody>\n",
       "    <tr>\n",
       "      <th>0</th>\n",
       "      <td>2.0</td>\n",
       "      <td>3.0</td>\n",
       "      <td>1324.0</td>\n",
       "      <td>518089.0</td>\n",
       "      <td>1963.0</td>\n",
       "    </tr>\n",
       "    <tr>\n",
       "      <th>1</th>\n",
       "      <td>3.0</td>\n",
       "      <td>4.0</td>\n",
       "      <td>3551.0</td>\n",
       "      <td>1609238.0</td>\n",
       "      <td>1994.0</td>\n",
       "    </tr>\n",
       "    <tr>\n",
       "      <th>2</th>\n",
       "      <td>3.0</td>\n",
       "      <td>4.0</td>\n",
       "      <td>2519.0</td>\n",
       "      <td>106406.0</td>\n",
       "      <td>1965.0</td>\n",
       "    </tr>\n",
       "    <tr>\n",
       "      <th>3</th>\n",
       "      <td>2.0</td>\n",
       "      <td>3.0</td>\n",
       "      <td>1285.0</td>\n",
       "      <td>369853.0</td>\n",
       "      <td>1955.0</td>\n",
       "    </tr>\n",
       "    <tr>\n",
       "      <th>4</th>\n",
       "      <td>1.0</td>\n",
       "      <td>3.0</td>\n",
       "      <td>1254.0</td>\n",
       "      <td>65848.0</td>\n",
       "      <td>1954.0</td>\n",
       "    </tr>\n",
       "  </tbody>\n",
       "</table>\n",
       "</div>"
      ],
      "text/plain": [
       "   bathrooms  bedrooms    sqft  tax_value  yearbuilt\n",
       "0        2.0       3.0  1324.0   518089.0     1963.0\n",
       "1        3.0       4.0  3551.0  1609238.0     1994.0\n",
       "2        3.0       4.0  2519.0   106406.0     1965.0\n",
       "3        2.0       3.0  1285.0   369853.0     1955.0\n",
       "4        1.0       3.0  1254.0    65848.0     1954.0"
      ]
     },
     "execution_count": 17,
     "metadata": {},
     "output_type": "execute_result"
    }
   ],
   "source": [
    "# rename the columns to easier to understand names:\n",
    "df = df.rename(columns ={\n",
    "    'bathroomcnt': 'bathrooms',\n",
    "    'bedroomcnt': 'bedrooms',\n",
    "    'calculatedfinishedsquarefeet': 'sqft',\n",
    "    'taxvaluedollarcnt': 'tax_value'\n",
    "})\n",
    "df.head()"
   ]
  },
  {
   "cell_type": "code",
   "execution_count": 18,
   "id": "3ca5d155-4afd-4719-a92e-cf91b78636bf",
   "metadata": {
    "tags": []
   },
   "outputs": [],
   "source": [
    "# make a function to clean and prep the data\n",
    "def clean_zillow(df):\n",
    "    '''\n",
    "    This function:\n",
    "    - This function will drop nulls\n",
    "    - This function, will drop unescessary columns\n",
    "    - Rename the existing columns\n",
    "    '''\n",
    "    \n",
    "    # drop nulls\n",
    "    df = df.dropna()\n",
    "    \n",
    "    col_list = ['transactiondate','propertylandusetypeid','propertylandusedesc','fips']\n",
    "    \n",
    "    #drop column names in col_list\n",
    "    df = df.drop(columns = col_list)\n",
    "    \n",
    "    #rename the columns\n",
    "    df = df.rename(columns ={\n",
    "    'bathroomcnt': 'bathrooms',\n",
    "    'bedroomcnt': 'bedrooms',\n",
    "    'calculatedfinishedsquarefeet': 'sqft',\n",
    "    'taxvaluedollarcnt': 'tax_value'\n",
    "})  \n",
    "    return df"
   ]
  },
  {
   "cell_type": "code",
   "execution_count": 19,
   "id": "25da60bb-0aba-4f9a-b302-4513c529205c",
   "metadata": {
    "tags": []
   },
   "outputs": [
    {
     "data": {
      "text/html": [
       "<div>\n",
       "<style scoped>\n",
       "    .dataframe tbody tr th:only-of-type {\n",
       "        vertical-align: middle;\n",
       "    }\n",
       "\n",
       "    .dataframe tbody tr th {\n",
       "        vertical-align: top;\n",
       "    }\n",
       "\n",
       "    .dataframe thead th {\n",
       "        text-align: right;\n",
       "    }\n",
       "</style>\n",
       "<table border=\"1\" class=\"dataframe\">\n",
       "  <thead>\n",
       "    <tr style=\"text-align: right;\">\n",
       "      <th></th>\n",
       "      <th>transactiondate</th>\n",
       "      <th>bathroomcnt</th>\n",
       "      <th>bedroomcnt</th>\n",
       "      <th>calculatedfinishedsquarefeet</th>\n",
       "      <th>fips</th>\n",
       "      <th>taxvaluedollarcnt</th>\n",
       "      <th>propertylandusetypeid</th>\n",
       "      <th>propertylandusedesc</th>\n",
       "      <th>yearbuilt</th>\n",
       "    </tr>\n",
       "  </thead>\n",
       "  <tbody>\n",
       "    <tr>\n",
       "      <th>0</th>\n",
       "      <td>2017-01-13</td>\n",
       "      <td>2.0</td>\n",
       "      <td>3.0</td>\n",
       "      <td>1324.0</td>\n",
       "      <td>6037.0</td>\n",
       "      <td>518089.0</td>\n",
       "      <td>261.0</td>\n",
       "      <td>Single Family Residential</td>\n",
       "      <td>1963.0</td>\n",
       "    </tr>\n",
       "    <tr>\n",
       "      <th>1</th>\n",
       "      <td>2017-01-13</td>\n",
       "      <td>3.0</td>\n",
       "      <td>4.0</td>\n",
       "      <td>3551.0</td>\n",
       "      <td>6037.0</td>\n",
       "      <td>1609238.0</td>\n",
       "      <td>261.0</td>\n",
       "      <td>Single Family Residential</td>\n",
       "      <td>1994.0</td>\n",
       "    </tr>\n",
       "    <tr>\n",
       "      <th>2</th>\n",
       "      <td>2017-01-13</td>\n",
       "      <td>3.0</td>\n",
       "      <td>4.0</td>\n",
       "      <td>2519.0</td>\n",
       "      <td>6037.0</td>\n",
       "      <td>106406.0</td>\n",
       "      <td>261.0</td>\n",
       "      <td>Single Family Residential</td>\n",
       "      <td>1965.0</td>\n",
       "    </tr>\n",
       "    <tr>\n",
       "      <th>3</th>\n",
       "      <td>2017-01-13</td>\n",
       "      <td>2.0</td>\n",
       "      <td>3.0</td>\n",
       "      <td>1285.0</td>\n",
       "      <td>6037.0</td>\n",
       "      <td>369853.0</td>\n",
       "      <td>261.0</td>\n",
       "      <td>Single Family Residential</td>\n",
       "      <td>1955.0</td>\n",
       "    </tr>\n",
       "    <tr>\n",
       "      <th>4</th>\n",
       "      <td>2017-01-13</td>\n",
       "      <td>1.0</td>\n",
       "      <td>3.0</td>\n",
       "      <td>1254.0</td>\n",
       "      <td>6037.0</td>\n",
       "      <td>65848.0</td>\n",
       "      <td>261.0</td>\n",
       "      <td>Single Family Residential</td>\n",
       "      <td>1954.0</td>\n",
       "    </tr>\n",
       "  </tbody>\n",
       "</table>\n",
       "</div>"
      ],
      "text/plain": [
       "  transactiondate  bathroomcnt  bedroomcnt  calculatedfinishedsquarefeet  \\\n",
       "0      2017-01-13          2.0         3.0                        1324.0   \n",
       "1      2017-01-13          3.0         4.0                        3551.0   \n",
       "2      2017-01-13          3.0         4.0                        2519.0   \n",
       "3      2017-01-13          2.0         3.0                        1285.0   \n",
       "4      2017-01-13          1.0         3.0                        1254.0   \n",
       "\n",
       "     fips  taxvaluedollarcnt  propertylandusetypeid  \\\n",
       "0  6037.0           518089.0                  261.0   \n",
       "1  6037.0          1609238.0                  261.0   \n",
       "2  6037.0           106406.0                  261.0   \n",
       "3  6037.0           369853.0                  261.0   \n",
       "4  6037.0            65848.0                  261.0   \n",
       "\n",
       "         propertylandusedesc  yearbuilt  \n",
       "0  Single Family Residential     1963.0  \n",
       "1  Single Family Residential     1994.0  \n",
       "2  Single Family Residential     1965.0  \n",
       "3  Single Family Residential     1955.0  \n",
       "4  Single Family Residential     1954.0  "
      ]
     },
     "execution_count": 19,
     "metadata": {},
     "output_type": "execute_result"
    }
   ],
   "source": [
    "df = wr.get_zillow_data()\n",
    "df.head()"
   ]
  },
  {
   "cell_type": "code",
   "execution_count": 20,
   "id": "a364ce7c-0163-43fc-91ce-ab0817b1a08c",
   "metadata": {
    "tags": []
   },
   "outputs": [],
   "source": [
    "df = clean_zillow(df)"
   ]
  },
  {
   "cell_type": "code",
   "execution_count": 21,
   "id": "df4cac2c-eeaa-4cf0-8fbf-61ad3f1d070b",
   "metadata": {
    "tags": []
   },
   "outputs": [
    {
     "data": {
      "text/html": [
       "<div>\n",
       "<style scoped>\n",
       "    .dataframe tbody tr th:only-of-type {\n",
       "        vertical-align: middle;\n",
       "    }\n",
       "\n",
       "    .dataframe tbody tr th {\n",
       "        vertical-align: top;\n",
       "    }\n",
       "\n",
       "    .dataframe thead th {\n",
       "        text-align: right;\n",
       "    }\n",
       "</style>\n",
       "<table border=\"1\" class=\"dataframe\">\n",
       "  <thead>\n",
       "    <tr style=\"text-align: right;\">\n",
       "      <th></th>\n",
       "      <th>bathrooms</th>\n",
       "      <th>bedrooms</th>\n",
       "      <th>sqft</th>\n",
       "      <th>tax_value</th>\n",
       "      <th>yearbuilt</th>\n",
       "    </tr>\n",
       "  </thead>\n",
       "  <tbody>\n",
       "    <tr>\n",
       "      <th>0</th>\n",
       "      <td>2.0</td>\n",
       "      <td>3.0</td>\n",
       "      <td>1324.0</td>\n",
       "      <td>518089.0</td>\n",
       "      <td>1963.0</td>\n",
       "    </tr>\n",
       "    <tr>\n",
       "      <th>1</th>\n",
       "      <td>3.0</td>\n",
       "      <td>4.0</td>\n",
       "      <td>3551.0</td>\n",
       "      <td>1609238.0</td>\n",
       "      <td>1994.0</td>\n",
       "    </tr>\n",
       "    <tr>\n",
       "      <th>2</th>\n",
       "      <td>3.0</td>\n",
       "      <td>4.0</td>\n",
       "      <td>2519.0</td>\n",
       "      <td>106406.0</td>\n",
       "      <td>1965.0</td>\n",
       "    </tr>\n",
       "    <tr>\n",
       "      <th>3</th>\n",
       "      <td>2.0</td>\n",
       "      <td>3.0</td>\n",
       "      <td>1285.0</td>\n",
       "      <td>369853.0</td>\n",
       "      <td>1955.0</td>\n",
       "    </tr>\n",
       "    <tr>\n",
       "      <th>4</th>\n",
       "      <td>1.0</td>\n",
       "      <td>3.0</td>\n",
       "      <td>1254.0</td>\n",
       "      <td>65848.0</td>\n",
       "      <td>1954.0</td>\n",
       "    </tr>\n",
       "  </tbody>\n",
       "</table>\n",
       "</div>"
      ],
      "text/plain": [
       "   bathrooms  bedrooms    sqft  tax_value  yearbuilt\n",
       "0        2.0       3.0  1324.0   518089.0     1963.0\n",
       "1        3.0       4.0  3551.0  1609238.0     1994.0\n",
       "2        3.0       4.0  2519.0   106406.0     1965.0\n",
       "3        2.0       3.0  1285.0   369853.0     1955.0\n",
       "4        1.0       3.0  1254.0    65848.0     1954.0"
      ]
     },
     "execution_count": 21,
     "metadata": {},
     "output_type": "execute_result"
    }
   ],
   "source": [
    "df.head()"
   ]
  },
  {
   "cell_type": "markdown",
   "id": "2600d028-720b-4752-a7bd-1cfb659fb6e3",
   "metadata": {},
   "source": [
    "# Feature Engineering\n",
    "- I want to make some new columns that could be used such as number of rooms: a combination of bathrooms and of bedrooms\n",
    "- I want to make a new column for how old the houses are\n",
    "- I want to remove outliers that could be messing with the data"
   ]
  },
  {
   "cell_type": "code",
   "execution_count": 22,
   "id": "2ec52ec1-707f-4079-8d6d-f97decd22f2f",
   "metadata": {
    "tags": []
   },
   "outputs": [],
   "source": [
    "# make a column for how old the house is\n",
    "df['house_age'] = 2017 - df['yearbuilt']"
   ]
  },
  {
   "cell_type": "code",
   "execution_count": 23,
   "id": "fd294333-e517-4c4d-95e7-2c2ec78b83ee",
   "metadata": {
    "tags": []
   },
   "outputs": [
    {
     "data": {
      "text/html": [
       "<div>\n",
       "<style scoped>\n",
       "    .dataframe tbody tr th:only-of-type {\n",
       "        vertical-align: middle;\n",
       "    }\n",
       "\n",
       "    .dataframe tbody tr th {\n",
       "        vertical-align: top;\n",
       "    }\n",
       "\n",
       "    .dataframe thead th {\n",
       "        text-align: right;\n",
       "    }\n",
       "</style>\n",
       "<table border=\"1\" class=\"dataframe\">\n",
       "  <thead>\n",
       "    <tr style=\"text-align: right;\">\n",
       "      <th></th>\n",
       "      <th>bathrooms</th>\n",
       "      <th>bedrooms</th>\n",
       "      <th>sqft</th>\n",
       "      <th>tax_value</th>\n",
       "      <th>yearbuilt</th>\n",
       "      <th>house_age</th>\n",
       "    </tr>\n",
       "  </thead>\n",
       "  <tbody>\n",
       "    <tr>\n",
       "      <th>0</th>\n",
       "      <td>2.0</td>\n",
       "      <td>3.0</td>\n",
       "      <td>1324.0</td>\n",
       "      <td>518089.0</td>\n",
       "      <td>1963.0</td>\n",
       "      <td>54.0</td>\n",
       "    </tr>\n",
       "    <tr>\n",
       "      <th>1</th>\n",
       "      <td>3.0</td>\n",
       "      <td>4.0</td>\n",
       "      <td>3551.0</td>\n",
       "      <td>1609238.0</td>\n",
       "      <td>1994.0</td>\n",
       "      <td>23.0</td>\n",
       "    </tr>\n",
       "    <tr>\n",
       "      <th>2</th>\n",
       "      <td>3.0</td>\n",
       "      <td>4.0</td>\n",
       "      <td>2519.0</td>\n",
       "      <td>106406.0</td>\n",
       "      <td>1965.0</td>\n",
       "      <td>52.0</td>\n",
       "    </tr>\n",
       "    <tr>\n",
       "      <th>3</th>\n",
       "      <td>2.0</td>\n",
       "      <td>3.0</td>\n",
       "      <td>1285.0</td>\n",
       "      <td>369853.0</td>\n",
       "      <td>1955.0</td>\n",
       "      <td>62.0</td>\n",
       "    </tr>\n",
       "    <tr>\n",
       "      <th>4</th>\n",
       "      <td>1.0</td>\n",
       "      <td>3.0</td>\n",
       "      <td>1254.0</td>\n",
       "      <td>65848.0</td>\n",
       "      <td>1954.0</td>\n",
       "      <td>63.0</td>\n",
       "    </tr>\n",
       "  </tbody>\n",
       "</table>\n",
       "</div>"
      ],
      "text/plain": [
       "   bathrooms  bedrooms    sqft  tax_value  yearbuilt  house_age\n",
       "0        2.0       3.0  1324.0   518089.0     1963.0       54.0\n",
       "1        3.0       4.0  3551.0  1609238.0     1994.0       23.0\n",
       "2        3.0       4.0  2519.0   106406.0     1965.0       52.0\n",
       "3        2.0       3.0  1285.0   369853.0     1955.0       62.0\n",
       "4        1.0       3.0  1254.0    65848.0     1954.0       63.0"
      ]
     },
     "execution_count": 23,
     "metadata": {},
     "output_type": "execute_result"
    }
   ],
   "source": [
    "df.head()"
   ]
  },
  {
   "cell_type": "code",
   "execution_count": 24,
   "id": "d6ac0479-1e9d-45f3-8fcb-48ef424f3f89",
   "metadata": {
    "tags": []
   },
   "outputs": [],
   "source": [
    "# make a column for total rooms (bathrooms + bedrooms)\n",
    "df['bb_roomcnt'] = df['bathrooms'] + df['bedrooms']"
   ]
  },
  {
   "cell_type": "code",
   "execution_count": 25,
   "id": "e550bb95-7926-4d3a-b38a-4abde5c29748",
   "metadata": {
    "tags": []
   },
   "outputs": [
    {
     "data": {
      "text/html": [
       "<div>\n",
       "<style scoped>\n",
       "    .dataframe tbody tr th:only-of-type {\n",
       "        vertical-align: middle;\n",
       "    }\n",
       "\n",
       "    .dataframe tbody tr th {\n",
       "        vertical-align: top;\n",
       "    }\n",
       "\n",
       "    .dataframe thead th {\n",
       "        text-align: right;\n",
       "    }\n",
       "</style>\n",
       "<table border=\"1\" class=\"dataframe\">\n",
       "  <thead>\n",
       "    <tr style=\"text-align: right;\">\n",
       "      <th></th>\n",
       "      <th>bathrooms</th>\n",
       "      <th>bedrooms</th>\n",
       "      <th>sqft</th>\n",
       "      <th>tax_value</th>\n",
       "      <th>yearbuilt</th>\n",
       "      <th>house_age</th>\n",
       "      <th>bb_roomcnt</th>\n",
       "    </tr>\n",
       "  </thead>\n",
       "  <tbody>\n",
       "    <tr>\n",
       "      <th>0</th>\n",
       "      <td>2.0</td>\n",
       "      <td>3.0</td>\n",
       "      <td>1324.0</td>\n",
       "      <td>518089.0</td>\n",
       "      <td>1963.0</td>\n",
       "      <td>54.0</td>\n",
       "      <td>5.0</td>\n",
       "    </tr>\n",
       "    <tr>\n",
       "      <th>1</th>\n",
       "      <td>3.0</td>\n",
       "      <td>4.0</td>\n",
       "      <td>3551.0</td>\n",
       "      <td>1609238.0</td>\n",
       "      <td>1994.0</td>\n",
       "      <td>23.0</td>\n",
       "      <td>7.0</td>\n",
       "    </tr>\n",
       "    <tr>\n",
       "      <th>2</th>\n",
       "      <td>3.0</td>\n",
       "      <td>4.0</td>\n",
       "      <td>2519.0</td>\n",
       "      <td>106406.0</td>\n",
       "      <td>1965.0</td>\n",
       "      <td>52.0</td>\n",
       "      <td>7.0</td>\n",
       "    </tr>\n",
       "    <tr>\n",
       "      <th>3</th>\n",
       "      <td>2.0</td>\n",
       "      <td>3.0</td>\n",
       "      <td>1285.0</td>\n",
       "      <td>369853.0</td>\n",
       "      <td>1955.0</td>\n",
       "      <td>62.0</td>\n",
       "      <td>5.0</td>\n",
       "    </tr>\n",
       "    <tr>\n",
       "      <th>4</th>\n",
       "      <td>1.0</td>\n",
       "      <td>3.0</td>\n",
       "      <td>1254.0</td>\n",
       "      <td>65848.0</td>\n",
       "      <td>1954.0</td>\n",
       "      <td>63.0</td>\n",
       "      <td>4.0</td>\n",
       "    </tr>\n",
       "  </tbody>\n",
       "</table>\n",
       "</div>"
      ],
      "text/plain": [
       "   bathrooms  bedrooms    sqft  tax_value  yearbuilt  house_age  bb_roomcnt\n",
       "0        2.0       3.0  1324.0   518089.0     1963.0       54.0         5.0\n",
       "1        3.0       4.0  3551.0  1609238.0     1994.0       23.0         7.0\n",
       "2        3.0       4.0  2519.0   106406.0     1965.0       52.0         7.0\n",
       "3        2.0       3.0  1285.0   369853.0     1955.0       62.0         5.0\n",
       "4        1.0       3.0  1254.0    65848.0     1954.0       63.0         4.0"
      ]
     },
     "execution_count": 25,
     "metadata": {},
     "output_type": "execute_result"
    }
   ],
   "source": [
    "df.head()"
   ]
  },
  {
   "cell_type": "code",
   "execution_count": 26,
   "id": "a0c7d60b-64b3-491e-8701-49a928ca8279",
   "metadata": {
    "tags": []
   },
   "outputs": [],
   "source": [
    "# make a function: \n",
    "def create_columns(df):\n",
    "    '''\n",
    "    This function will complete some feature engineering and produce two columns:\n",
    "    house age = how old the house is\n",
    "    bb_roomcnt = bedrooms with bathrroms \n",
    "    '''\n",
    "    \n",
    "    df['house_age'] = 2017 - df['yearbuilt']\n",
    "    \n",
    "    df['bb_roomcnt'] = df['bathrooms'] + df['bedrooms']\n",
    "    \n",
    "    \n",
    "    return df"
   ]
  },
  {
   "cell_type": "markdown",
   "id": "59ba0785-c008-412b-bf71-c1342bab0957",
   "metadata": {},
   "source": [
    "# Split Data:\n",
    "- Need to create a function to split the data into train, validate, and test"
   ]
  },
  {
   "cell_type": "code",
   "execution_count": 27,
   "id": "02d03a76-b296-40d7-b9a5-89e2f7318023",
   "metadata": {
    "tags": []
   },
   "outputs": [],
   "source": [
    "# impots\n",
    "from sklearn.model_selection import train_test_split"
   ]
  },
  {
   "cell_type": "code",
   "execution_count": 28,
   "id": "b83a1328-d9c3-4a57-ae14-10b4e222ee09",
   "metadata": {
    "tags": []
   },
   "outputs": [],
   "source": [
    "def split_zillow_data(df):\n",
    "    '''\n",
    "    This funciton will split the data frame into train, validate, and test\n",
    "    '''\n",
    "    \n",
    "    train_validate, test = train_test_split(df, test_size=.2, random_state=123)\n",
    "    train, validate = train_test_split(train_validate, test_size=.3, random_state=123)\n",
    "    \n",
    "    return train, validate, test"
   ]
  },
  {
   "cell_type": "code",
   "execution_count": 29,
   "id": "b6abcc07-164b-4939-9c38-bfd0b526e2ac",
   "metadata": {
    "tags": []
   },
   "outputs": [],
   "source": [
    "# make sure it works\n",
    "train, validate, test = split_zillow_data(df)"
   ]
  },
  {
   "cell_type": "code",
   "execution_count": 30,
   "id": "d1d4f410-2700-4603-a564-434462e96225",
   "metadata": {
    "tags": []
   },
   "outputs": [
    {
     "data": {
      "text/plain": [
       "((29298, 7), (12557, 7), (10464, 7))"
      ]
     },
     "execution_count": 30,
     "metadata": {},
     "output_type": "execute_result"
    }
   ],
   "source": [
    "train.shape, validate.shape, test.shape"
   ]
  },
  {
   "cell_type": "code",
   "execution_count": 31,
   "id": "64575f67-5e76-4bd6-b38a-a4941fcf17c1",
   "metadata": {
    "tags": []
   },
   "outputs": [
    {
     "data": {
      "text/html": [
       "<div>\n",
       "<style scoped>\n",
       "    .dataframe tbody tr th:only-of-type {\n",
       "        vertical-align: middle;\n",
       "    }\n",
       "\n",
       "    .dataframe tbody tr th {\n",
       "        vertical-align: top;\n",
       "    }\n",
       "\n",
       "    .dataframe thead th {\n",
       "        text-align: right;\n",
       "    }\n",
       "</style>\n",
       "<table border=\"1\" class=\"dataframe\">\n",
       "  <thead>\n",
       "    <tr style=\"text-align: right;\">\n",
       "      <th></th>\n",
       "      <th>bathrooms</th>\n",
       "      <th>bedrooms</th>\n",
       "      <th>sqft</th>\n",
       "      <th>tax_value</th>\n",
       "      <th>yearbuilt</th>\n",
       "      <th>house_age</th>\n",
       "      <th>bb_roomcnt</th>\n",
       "    </tr>\n",
       "  </thead>\n",
       "  <tbody>\n",
       "    <tr>\n",
       "      <th>20546</th>\n",
       "      <td>1.0</td>\n",
       "      <td>3.0</td>\n",
       "      <td>1016.0</td>\n",
       "      <td>296465.0</td>\n",
       "      <td>1956.0</td>\n",
       "      <td>61.0</td>\n",
       "      <td>4.0</td>\n",
       "    </tr>\n",
       "    <tr>\n",
       "      <th>6657</th>\n",
       "      <td>1.0</td>\n",
       "      <td>2.0</td>\n",
       "      <td>1140.0</td>\n",
       "      <td>111502.0</td>\n",
       "      <td>1947.0</td>\n",
       "      <td>70.0</td>\n",
       "      <td>3.0</td>\n",
       "    </tr>\n",
       "    <tr>\n",
       "      <th>51315</th>\n",
       "      <td>1.0</td>\n",
       "      <td>2.0</td>\n",
       "      <td>1226.0</td>\n",
       "      <td>235041.0</td>\n",
       "      <td>1940.0</td>\n",
       "      <td>77.0</td>\n",
       "      <td>3.0</td>\n",
       "    </tr>\n",
       "    <tr>\n",
       "      <th>43279</th>\n",
       "      <td>1.0</td>\n",
       "      <td>1.0</td>\n",
       "      <td>722.0</td>\n",
       "      <td>142547.0</td>\n",
       "      <td>1923.0</td>\n",
       "      <td>94.0</td>\n",
       "      <td>2.0</td>\n",
       "    </tr>\n",
       "    <tr>\n",
       "      <th>19693</th>\n",
       "      <td>2.0</td>\n",
       "      <td>4.0</td>\n",
       "      <td>1977.0</td>\n",
       "      <td>83510.0</td>\n",
       "      <td>1967.0</td>\n",
       "      <td>50.0</td>\n",
       "      <td>6.0</td>\n",
       "    </tr>\n",
       "  </tbody>\n",
       "</table>\n",
       "</div>"
      ],
      "text/plain": [
       "       bathrooms  bedrooms    sqft  tax_value  yearbuilt  house_age  \\\n",
       "20546        1.0       3.0  1016.0   296465.0     1956.0       61.0   \n",
       "6657         1.0       2.0  1140.0   111502.0     1947.0       70.0   \n",
       "51315        1.0       2.0  1226.0   235041.0     1940.0       77.0   \n",
       "43279        1.0       1.0   722.0   142547.0     1923.0       94.0   \n",
       "19693        2.0       4.0  1977.0    83510.0     1967.0       50.0   \n",
       "\n",
       "       bb_roomcnt  \n",
       "20546         4.0  \n",
       "6657          3.0  \n",
       "51315         3.0  \n",
       "43279         2.0  \n",
       "19693         6.0  "
      ]
     },
     "execution_count": 31,
     "metadata": {},
     "output_type": "execute_result"
    }
   ],
   "source": [
    "# check combined functions: \n",
    "train, validate, test = wr.prep_zillow()\n",
    "train.head()"
   ]
  }
 ],
 "metadata": {
  "kernelspec": {
   "display_name": "Python 3 (ipykernel)",
   "language": "python",
   "name": "python3"
  },
  "language_info": {
   "codemirror_mode": {
    "name": "ipython",
    "version": 3
   },
   "file_extension": ".py",
   "mimetype": "text/x-python",
   "name": "python",
   "nbconvert_exporter": "python",
   "pygments_lexer": "ipython3",
   "version": "3.11.4"
  }
 },
 "nbformat": 4,
 "nbformat_minor": 5
}
